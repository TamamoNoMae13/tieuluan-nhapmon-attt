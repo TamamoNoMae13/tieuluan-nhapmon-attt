{
  "nbformat": 4,
  "nbformat_minor": 0,
  "metadata": {
    "colab": {
      "name": "Tiểu luận ATTT nhóm 2.ipynb",
      "provenance": [],
      "collapsed_sections": [],
      "authorship_tag": "ABX9TyPrukqI4JsV41l6qLCBBdUR",
      "include_colab_link": true
    },
    "kernelspec": {
      "name": "python3",
      "display_name": "Python 3"
    },
    "language_info": {
      "name": "python"
    }
  },
  "cells": [
    {
      "cell_type": "markdown",
      "metadata": {
        "id": "view-in-github",
        "colab_type": "text"
      },
      "source": [
        "<a href=\"https://colab.research.google.com/github/TamamoNoMae13/tieuluan-nhapmon-attt/blob/main/Ti%E1%BB%83u_lu%E1%BA%ADn_ATTT_nh%C3%B3m_2.ipynb\" target=\"_parent\"><img src=\"https://colab.research.google.com/assets/colab-badge.svg\" alt=\"Open In Colab\"/></a>"
      ]
    },
    {
      "cell_type": "markdown",
      "metadata": {
        "id": "pax6GkYdBnCH"
      },
      "source": [
        "# Tiểu luận nhóm 2\n",
        "Đề tài: Lập trình hệ mật DES và 3DES\n",
        "# Giới thiệu\n",
        "Hệ mật DES (Data Encryption Standard) là hệ abcxyz... hỗ trợ abcxyz 56-bit, được nâng cấp lên 3DES (Triple DES) 168-bit, sau này được thay thế bởi hệ mật cao cấp hơn AES (Advanced Encryption Standard) 192/256 bit."
      ]
    },
    {
      "cell_type": "markdown",
      "metadata": {
        "id": "BNNcPTxNCL3A"
      },
      "source": [
        "<!---\n",
        "  guide: https://www.w3schools.io/file/markdown-cheatsheet/\n",
        "  chuẩn hoá:\n",
        "    - 2 space + enter = xuống dòng\n",
        "    - 2 enter = div/paragraph mới\n",
        "--->\n",
        "\n",
        "# Data Encryption Standard\n",
        "\n",
        "*Nguồn: [Data Encryption Standard](https://en.wikipedia.org/wiki/Triple_DES)*\n",
        "\n",
        "## Nguồn gốc\n",
        "\n",
        "Cảm hứng khởi nguồn từ thuật toán mà Feistel phát minh năm 1971, blah blah.\n",
        "Dựa vào thuật toán trên, xây dựng nên tiêu chuẩn DES vào 1976...  \n",
        "3DES ra mắt, nhưng vướng mắc là nó quá chậm...  \n",
        "1998, thuật toán Rjindael ra đời cải thiện...  \n",
        "2002, AES thay thế DES...  \n",
        "\n",
        "## Feistel cipher\n",
        "\n",
        "*Nguồn: [Feistel cipher](https://en.wikipedia.org/wiki/Feistel_cipher)*\n",
        "\n",
        "Feistel cipher, hay còn được biết đến với tên gọi khác là Luby–Rackoff block cipher, abcxyz\n",
        "\n",
        "![diagram](https://upload.wikimedia.org/wikipedia/commons/thumb/f/fa/Feistel_cipher_diagram_en.svg/328px-Feistel_cipher_diagram_en.svg.png)\n",
        "\n",
        "## DES\n",
        "\n",
        "abcxyz\n"
      ]
    },
    {
      "cell_type": "markdown",
      "metadata": {
        "id": "GcCvtChOGxqV"
      },
      "source": [
        "## Tự thiết kế DES:\n",
        "\n",
        "### Một số ma trận biến đổi mẫu:\n",
        "\n",
        "Tất cả đều tính theo hệ đếm bắt đầu từ 1.\n"
      ]
    },
    {
      "cell_type": "code",
      "metadata": {
        "id": "gW1m5Tk18OU0"
      },
      "source": [
        "# Input -> Initial permutation table\n",
        "IP = [58, 50, 42, 34, 26, 18, 10, 2,\n",
        "      60, 52, 44, 36, 28, 20, 12, 4,\n",
        "      62, 54, 46, 38, 30, 22, 14, 6,\n",
        "      64, 56, 48, 40, 32, 24, 16, 8,\n",
        "      57, 49, 41, 33, 25, 17, 9, 1,\n",
        "      59, 51, 43, 35, 27, 19, 11, 3,\n",
        "      61, 53, 45, 37, 29, 21, 13, 5,\n",
        "      63, 55, 47, 39, 31, 23, 15, 7]\n",
        "\n",
        "# Key Permutation Choice 1st table\n",
        "PC1 = [ 57, 49, 41, 33, 25, 17, 9,\n",
        "        1, 58, 50, 42, 34, 26, 18,\n",
        "        10, 2, 59, 51, 43, 35, 27,\n",
        "        19, 11, 3, 60, 52, 44, 36,\n",
        "        63, 55, 47, 39, 31, 23, 15,\n",
        "        7, 62, 54, 46, 38, 30, 22,\n",
        "         14, 6, 61, 53, 45, 37, 29,\n",
        "        21, 13, 5, 28, 20, 12, 4 ]\n",
        "\n",
        "# Number of bit(s) get left-shift (base on current round)\n",
        "shiftBit = [1, 1, 2, 2, 2, 2, 2, 2,\n",
        "            1, 2, 2, 2, 2, 2, 2, 1]\n",
        "\n",
        "# Key Permutation Choice 2st table\n",
        "PC2 = [14, 17, 11, 24, 1, 5,\n",
        "       3, 28, 15, 6, 21, 10,\n",
        "       23, 19, 12, 4, 26, 8,\n",
        "       16, 7, 27, 20, 13, 2,\n",
        "       41, 52, 31, 37, 47, 55,\n",
        "       30, 40, 51, 45, 33, 48,\n",
        "       44, 49, 39, 56, 34, 53,\n",
        "       46, 42, 50, 36, 29, 32]\n",
        "\n",
        "# E-bit selection table (Expansion D-Box)\n",
        "EP = [32, 1, 2, 3, 4, 5, 4, 5,\n",
        "      6, 7, 8, 9, 8, 9, 10, 11,\n",
        "      12, 13, 12, 13, 14, 15, 16, 17,\n",
        "      16, 17, 18, 19, 20, 21, 20, 21,\n",
        "      22, 23, 24, 25, 24, 25, 26, 27,\n",
        "      28, 29, 28, 29, 30, 31, 32, 1]\n",
        "\n",
        "# S-box\n",
        "sbox = [[[14, 4, 13, 1, 2, 15, 11, 8, 3, 10, 6, 12, 5, 9, 0, 7],\n",
        "         [0, 15, 7, 4, 14, 2, 13, 1, 10, 6, 12, 11, 9, 5, 3, 8],\n",
        "         [4, 1, 14, 8, 13, 6, 2, 11, 15, 12, 9, 7, 3, 10, 5, 0],\n",
        "         [15, 12, 8, 2, 4, 9, 1, 7, 5, 11, 3, 14, 10, 0, 6, 13]],\n",
        "\n",
        "        [[15, 1, 8, 14, 6, 11, 3, 4, 9, 7, 2, 13, 12, 0, 5, 10],\n",
        "         [3, 13, 4, 7, 15, 2, 8, 14, 12, 0, 1, 10, 6, 9, 11, 5],\n",
        "         [0, 14, 7, 11, 10, 4, 13, 1, 5, 8, 12, 6, 9, 3, 2, 15],\n",
        "         [13, 8, 10, 1, 3, 15, 4, 2, 11, 6, 7, 12, 0, 5, 14, 9]],\n",
        "\n",
        "        [[10, 0, 9, 14, 6, 3, 15, 5, 1, 13, 12, 7, 11, 4, 2, 8],\n",
        "         [13, 7, 0, 9, 3, 4, 6, 10, 2, 8, 5, 14, 12, 11, 15, 1],\n",
        "         [13, 6, 4, 9, 8, 15, 3, 0, 11, 1, 2, 12, 5, 10, 14, 7],\n",
        "         [1, 10, 13, 0, 6, 9, 8, 7, 4, 15, 14, 3, 11, 5, 2, 12]],\n",
        "\n",
        "        [[7, 13, 14, 3, 0, 6, 9, 10, 1, 2, 8, 5, 11, 12, 4, 15],\n",
        "         [13, 8, 11, 5, 6, 15, 0, 3, 4, 7, 2, 12, 1, 10, 14, 9],\n",
        "         [10, 6, 9, 0, 12, 11, 7, 13, 15, 1, 3, 14, 5, 2, 8, 4],\n",
        "         [3, 15, 0, 6, 10, 1, 13, 8, 9, 4, 5, 11, 12, 7, 2, 14]],\n",
        "\n",
        "        [[2, 12, 4, 1, 7, 10, 11, 6, 8, 5, 3, 15, 13, 0, 14, 9],\n",
        "         [14, 11, 2, 12, 4, 7, 13, 1, 5, 0, 15, 10, 3, 9, 8, 6],\n",
        "         [4, 2, 1, 11, 10, 13, 7, 8, 15, 9, 12, 5, 6, 3, 0, 14],\n",
        "         [11, 8, 12, 7, 1, 14, 2, 13, 6, 15, 0, 9, 10, 4, 5, 3]],\n",
        "\n",
        "        [[12, 1, 10, 15, 9, 2, 6, 8, 0, 13, 3, 4, 14, 7, 5, 11],\n",
        "         [10, 15, 4, 2, 7, 12, 9, 5, 6, 1, 13, 14, 0, 11, 3, 8],\n",
        "         [9, 14, 15, 5, 2, 8, 12, 3, 7, 0, 4, 10, 1, 13, 11, 6],\n",
        "         [4, 3, 2, 12, 9, 5, 15, 10, 11, 14, 1, 7, 6, 0, 8, 13]],\n",
        "\n",
        "        [[4, 11, 2, 14, 15, 0, 8, 13, 3, 12, 9, 7, 5, 10, 6, 1],\n",
        "         [13, 0, 11, 7, 4, 9, 1, 10, 14, 3, 5, 12, 2, 15, 8, 6],\n",
        "         [1, 4, 11, 13, 12, 3, 7, 14, 10, 15, 6, 8, 0, 5, 9, 2],\n",
        "         [6, 11, 13, 8, 1, 4, 10, 7, 9, 5, 0, 15, 14, 2, 3, 12]],\n",
        "\n",
        "        [[13, 2, 8, 4, 6, 15, 11, 1, 10, 9, 3, 14, 5, 0, 12, 7],\n",
        "         [1, 15, 13, 8, 10, 3, 7, 4, 12, 5, 6, 11, 0, 14, 9, 2],\n",
        "         [7, 11, 4, 1, 9, 12, 14, 2, 0, 6, 10, 13, 15, 3, 5, 8],\n",
        "         [2, 1, 14, 7, 4, 10, 8, 13, 15, 12, 9, 0, 3, 5, 6, 11]]]\n",
        "\n",
        "# Straight Permutation table\n",
        "P = [16, 7, 20, 21,\n",
        "     29, 12, 28, 17,\n",
        "     1, 15, 23, 26,\n",
        "     5, 18, 31, 10,\n",
        "     2, 8, 24, 14,\n",
        "     32, 27, 3, 9,\n",
        "     19, 13, 30, 6,\n",
        "     22, 11, 4, 25]\n",
        "\n",
        "# Inverse of Initial permutation table\n",
        "IP1 = [40, 8, 48, 16, 56, 24, 64, 32,\n",
        "       39, 7, 47, 15, 55, 23, 63, 31,\n",
        "       38, 6, 46, 14, 54, 22, 62, 30,\n",
        "       37, 5, 45, 13, 53, 21, 61, 29,\n",
        "       36, 4, 44, 12, 52, 20, 60, 28,\n",
        "       35, 3, 43, 11, 51, 19, 59, 27,\n",
        "       34, 2, 42, 10, 50, 18, 58, 26,\n",
        "       33, 1, 41, 9, 49, 17, 57, 25]"
      ],
      "execution_count": 42,
      "outputs": []
    },
    {
      "cell_type": "markdown",
      "metadata": {
        "id": "RJiJ1VwRYGqp"
      },
      "source": [
        "### Hàm mã hóa DES\n",
        "\n",
        "Hỗ trợ tin và khoá đầu vào với bảng mã hệ Hexadecimal (thập lục phân), Binary (nhị phân) và ***UTF-8 (mặc định)***.\n",
        "\n"
      ]
    },
    {
      "cell_type": "code",
      "metadata": {
        "id": "4H_bs9pXBl_s"
      },
      "source": [
        "def encrypt(msg, key, enc):\n",
        "  txt = \"\"  # Binary string for msg\n",
        "  k = \"\"  # Binary string for key\n",
        "\n",
        "  # Return error if encoder not supported or over 64-bit\n",
        "  if enc != \"hex\" or enc != \"bin\" or enc != \"utf8\":\n",
        "    return \"Input encoder not supported!\"\n",
        "  elif enc == \"hex\":\n",
        "    if len(msg) > 16 or len(key) > 16:\n",
        "      return \"Please limit your msg and key below 16 characters for hexadecimal!\"\n",
        "    else:\n",
        "      txt = toBinary(msg, enc)\n",
        "      k = toBinary(key, enc)\n",
        "  elif enc == \"bin\":\n",
        "    if len(msg) > 64 or len(key) > 64:\n",
        "      return \"Please limit your msg and key below 64 characters for binary!\"\n",
        "    else:\n",
        "      txt = msg\n",
        "      k = key\n",
        "  else:\n",
        "    txt = toBinary(msg, enc)\n",
        "    k = toBinary(key, enc)\n",
        "    if len(txt) > 64 or len(k) > 64:\n",
        "      return \"Your msg or key is over 64-bit!\"\n",
        "\n",
        "  # Fill msg and key to 64-bit\n",
        "  txt = addTrailingZero(txt)\n",
        "  k = repeatTo64(k)\n",
        "\n",
        "  # Keygen\n",
        "  # Shorten 64-bit key to 56-bit via Permutation Choice 1:\n",
        "  keyArrPC1 = []\n",
        "  for x in PC1:\n",
        "    keyArrPC1.append(int(keyArr[x-1]))\n",
        "  \n",
        "  ## Get 16 subkeys for 16 rounds\n",
        "  subkeys = genSubkeys(keyArrPC1)\n",
        "\n",
        "  # Message\n",
        "  arrMsgIP = []  # input after Initial Permutation\n",
        "  for x in IP:\n",
        "    arrMsgIP.append(int(text[x-1]))\n",
        "  \n",
        "  # Split to 2 halves (32-bit each)\n",
        "  arrL = arrMsgIP[0:32]\n",
        "  arrR = arrMsgIP[0:32]\n",
        "  \n",
        "  # Starting 16 rounds of DES:\n",
        "  for r in range(16):\n",
        "    # Expand arrR to 48-bit\n",
        "    arrE = []  # input after Expansion D-box\n",
        "    for x in EP:\n",
        "      arrE.append(arrR[x-1])\n",
        "    # Calculate \"Expanded Right\" XOR \"Subkey (current round)\"\n",
        "    arrX = []  # 48-bit\n",
        "    for i in range(47):\n",
        "      arrX.append(arrE[i] ^ subkeys[r][i])\n",
        "    # Shorten result to 32-bit via S-boxes\n",
        "    arrS = []\n",
        "    for i in range(8):  # Go through 8 S-boxes\n",
        "      row = 2*arrX[(6*i)] + arrX[(6*i+5)]  # Calc value of 1st and 6th bit for row\n",
        "      # Calc value of 2-5th bit for column\n",
        "      column = 8*arrX[(6*i+1)] + 4*arrX[(6*i+2)] + 2*arrX[(6*i+3)] + arrX[(6*i+4)]\n",
        "      tmp = sbox[i][row][column]  # Check value in S-box[i]\n",
        "      arrS += decToBinArr(tmp)  # Put 4-bit result from S-box to arrS\n",
        "    # Permute the above result with Straight Permutation table:\n",
        "    arrP = []  # 32-bit\n",
        "    for x in P:\n",
        "      arrP.append(arrS[x-1])\n",
        "    # Calculate \"arrL\" XOR \"arrP\", make the result the new arrR\n",
        "    # Also make old arrR becomes new arrL\n",
        "    arrTmp = []\n",
        "    for i in range(32):\n",
        "      arrTmp.append(arrL[i] ^ arrP[i])\n",
        "    arrL = arrR\n",
        "    arrR = arrTmp\n",
        "  \n",
        "  # Pre-output\n",
        "  # Swap L & R and join in 1 array\n",
        "  arrPreO = arrR + arrL  # 64-bit\n",
        "  # Permute with IP -1\n",
        "  arrO = []\n",
        "  for x in IP1:\n",
        "    arrO.append(arrPreO[x-1])\n",
        "  # Convert char array back to string\n",
        "  strO = \"\"\n",
        "  for x in arrO:\n",
        "    strO += str(x)\n",
        "  \n",
        "  # Convert back to original encoder and return it:\n",
        "  return toText(strO, enc)"
      ],
      "execution_count": 56,
      "outputs": []
    },
    {
      "cell_type": "markdown",
      "metadata": {
        "id": "UuHmS5BOia8e"
      },
      "source": [
        "### Các hàm hỗ trợ trong việc mã hoá\n",
        "Hàm chuyển tin và khoá sang chuỗi nhị phân; và ngược lại:"
      ]
    },
    {
      "cell_type": "code",
      "metadata": {
        "id": "qX-EctODh35V"
      },
      "source": [
        "def toBinary(text, enc):\n",
        "  output = \"\"\n",
        "  # Check encoder\n",
        "  if enc == \"hex\":\n",
        "    output = ''.join([\"{0:04b}\".format(int(char,16)) for char in text])\n",
        "  else:\n",
        "    output = ''.join(bin(char)[2:].zfill(8) for char in text.encode('UTF-8'))\n",
        "  return output\n",
        "\n",
        "def toText(binary, enc):\n",
        "  output = \"\"\n",
        "  # Check encoder\n",
        "  if enc == \"hex\":\n",
        "    return hex(int(binary, 2))[2:]\n",
        "  else:\n",
        "    return 0"
      ],
      "execution_count": 53,
      "outputs": []
    },
    {
      "cell_type": "code",
      "metadata": {
        "colab": {
          "base_uri": "https://localhost:8080/"
        },
        "id": "lx-Vz6jBi-SL",
        "outputId": "8e786987-562b-4314-d708-8f1556b8e373"
      },
      "source": [
        "# Test\n",
        "print(toBinary(\"abcd\", \"hex\"))  # 1010 1011 1100 1101\n",
        "print(toBinary(\"あい\",\"utf8\"))  # 11100011 10000001 10000010 11100011 10000001 10000100\n",
        "print(toText(\"1010101111001101\",\"hex\"))  # abcd"
      ],
      "execution_count": 55,
      "outputs": [
        {
          "output_type": "stream",
          "name": "stdout",
          "text": [
            "1010101111001101\n",
            "111000111000000110000010111000111000000110000100\n",
            "abcd\n"
          ]
        }
      ]
    },
    {
      "cell_type": "markdown",
      "metadata": {
        "id": "iDe5NEk4iZ6b"
      },
      "source": [
        "Hàm chèn `0` vào cuối và hàm lặp lại xâu, nhằm đệm đủ 64 bit:"
      ]
    },
    {
      "cell_type": "code",
      "metadata": {
        "id": "nDls38FY3vIh"
      },
      "source": [
        "def addTrailingZero(s):\n",
        "  return s + '0' * (64-len(s))\n",
        "\n",
        "def repeatTo64(s):\n",
        "  return (s * (64//len(s) + 1))[:64]"
      ],
      "execution_count": 16,
      "outputs": []
    },
    {
      "cell_type": "code",
      "metadata": {
        "colab": {
          "base_uri": "https://localhost:8080/"
        },
        "id": "dGKL1bjJeeHK",
        "outputId": "87b21e18-50ca-4453-cd7a-565c5b368c3b"
      },
      "source": [
        "# Test\n",
        "print(addTrailingZero(\"981548946849abbevn0a093j01201je02\"))\n",
        "print(repeatTo64(\"d01u20wqo10219ue0w1\"))"
      ],
      "execution_count": 19,
      "outputs": [
        {
          "output_type": "stream",
          "name": "stdout",
          "text": [
            "981548946849abbevn0a093j01201je020000000000000000000000000000000\n",
            "d01u20wqo10219ue0w1d01u20wqo10219ue0w1d01u20wqo10219ue0w1d01u20w\n"
          ]
        }
      ]
    },
    {
      "cell_type": "markdown",
      "metadata": {
        "id": "RpvqR-8ZtupZ"
      },
      "source": [
        "Hàm tạo 16 subkeys 48-bit và hàm dịch bit sang trái (tối ưu trong scope chỉ dịch 1 hoặc 2 bit):"
      ]
    },
    {
      "cell_type": "code",
      "metadata": {
        "id": "htCwGCYBtuFb"
      },
      "source": [
        "def genSubkeys(keyArrPC1):\n",
        "  # Split 56-bit key array to 2 halves (28 bits each)\n",
        "  arrC = keyArrPC1[0:28]\n",
        "  arrD = keyArrPC1[28:56]\n",
        "  subkeys = []\n",
        "  for i in range(16):\n",
        "    # Left shift i-bit, base on current round\n",
        "    arrC = leftShift(arrC, shiftBit[i])\n",
        "    arrD = leftShift(arrD, shiftBit[i])\n",
        "    tmp = arrC + arrD\n",
        "    # Shrink to 48-bit key with Permutation Choice 2\n",
        "    keyArrPC2 = []\n",
        "    for x in PC2:\n",
        "      keyArrPC2.append(tmp[x-1])\n",
        "    # Add key_i to subkeys\n",
        "    subkeys.append(keyArrPC2)\n",
        "  return subkeys\n",
        "\n",
        "def leftShift(arr, num):\n",
        "  output = arr\n",
        "  first = output[0]  # Store 1st element\n",
        "  # Check how many shifts\n",
        "  if num == 2:\n",
        "    second = output[1]  # Store 2nd element\n",
        "    for j in range(0, len(output)-2):\n",
        "      output[j] = output[j+2]  # Shifting elements in array\n",
        "    # Re-add 1st & 2nd element\n",
        "    output[len(output)-2] = first\n",
        "    output[len(output)-1] = second\n",
        "  else:\n",
        "    for j in range(0, len(output)-1):\n",
        "      output[j] = output[j+1]  # Shifting elements in array\n",
        "    output[len(output)-1] = first\n",
        "  return output"
      ],
      "execution_count": 48,
      "outputs": []
    },
    {
      "cell_type": "code",
      "metadata": {
        "colab": {
          "base_uri": "https://localhost:8080/"
        },
        "id": "dXmGYjYYhwp2",
        "outputId": "26ba6d88-03fe-4e68-a484-ff7b17044dc0"
      },
      "source": [
        "# Test\n",
        "print(leftShift([6, 7, 8, 9], 1))\n",
        "print(leftShift([1, 3, 5, 7, 9], 2))\n",
        "# Test 2\n",
        "arr = [0, 0, 0, 1, 1, 0, 0,\n",
        "       0, 0, 0, 1, 0, 0, 0,\n",
        "       1, 1, 1, 0, 0, 1, 1,\n",
        "       0, 0, 0, 1, 1, 1, 0,\n",
        "       1, 1, 1, 1, 0, 1, 1,\n",
        "       1, 0, 0, 0, 1, 1, 0,\n",
        "       1, 0, 1, 1, 1, 1, 0,\n",
        "       0, 0, 0, 1, 0, 1, 0]\n",
        "print(genSubkeys(arr))"
      ],
      "execution_count": 49,
      "outputs": [
        {
          "output_type": "stream",
          "name": "stdout",
          "text": [
            "[7, 8, 9, 6]\n",
            "[5, 7, 9, 1, 3]\n",
            "[[1, 0, 0, 1, 0, 0, 1, 0, 1, 0, 0, 1, 0, 1, 0, 1, 1, 0, 1, 0, 0, 1, 0, 0, 0, 1, 1, 0, 1, 0, 1, 1, 0, 1, 1, 0, 1, 0, 1, 1, 1, 0, 1, 1, 0, 0, 1, 0], [1, 0, 0, 1, 0, 0, 1, 0, 1, 0, 0, 0, 1, 1, 0, 0, 0, 0, 0, 0, 0, 0, 1, 1, 1, 0, 0, 0, 0, 1, 1, 0, 1, 1, 1, 0, 1, 0, 1, 1, 1, 1, 1, 0, 0, 0, 1, 1], [0, 1, 1, 0, 1, 0, 0, 1, 0, 0, 1, 0, 1, 0, 1, 0, 0, 0, 1, 1, 0, 0, 1, 0, 1, 0, 1, 1, 0, 1, 1, 0, 1, 0, 0, 0, 1, 1, 1, 1, 0, 1, 0, 1, 0, 1, 0, 1], [1, 0, 1, 0, 0, 1, 0, 0, 1, 0, 1, 1, 0, 1, 0, 0, 1, 0, 0, 0, 1, 1, 0, 0, 1, 1, 0, 1, 1, 0, 1, 1, 1, 0, 0, 0, 0, 1, 1, 1, 1, 1, 0, 1, 0, 0, 1, 0], [0, 1, 0, 1, 0, 0, 1, 0, 0, 0, 0, 0, 0, 1, 1, 0, 0, 1, 0, 1, 0, 0, 1, 0, 0, 1, 0, 1, 1, 1, 0, 1, 1, 1, 1, 0, 0, 1, 1, 1, 0, 0, 0, 0, 1, 0, 0, 1], [0, 1, 1, 0, 1, 1, 0, 0, 1, 1, 0, 1, 1, 0, 0, 0, 0, 0, 1, 1, 0, 0, 0, 0, 0, 1, 1, 1, 1, 0, 1, 0, 0, 1, 1, 1, 0, 1, 0, 0, 0, 1, 0, 0, 1, 1, 0, 0], [1, 0, 0, 0, 0, 1, 1, 0, 1, 0, 1, 0, 0, 0, 0, 1, 0, 1, 0, 0, 1, 1, 1, 0, 1, 1, 1, 0, 1, 0, 0, 0, 1, 1, 1, 1, 0, 0, 0, 1, 1, 0, 1, 0, 1, 1, 1, 0], [0, 0, 1, 0, 1, 0, 1, 0, 0, 1, 0, 0, 0, 1, 1, 0, 0, 0, 0, 1, 0, 0, 1, 1, 1, 0, 1, 0, 0, 1, 0, 0, 0, 1, 1, 1, 1, 1, 1, 0, 1, 0, 1, 0, 1, 0, 1, 1], [0, 1, 1, 1, 1, 1, 0, 1, 0, 1, 0, 1, 0, 0, 1, 0, 0, 0, 0, 0, 0, 0, 0, 1, 0, 0, 1, 0, 1, 0, 1, 1, 0, 1, 1, 1, 1, 1, 0, 1, 0, 1, 0, 1, 0, 0, 0, 1], [0, 0, 0, 0, 0, 0, 1, 1, 1, 0, 0, 1, 0, 0, 0, 1, 1, 1, 1, 0, 1, 0, 0, 0, 1, 1, 1, 0, 1, 0, 1, 1, 1, 1, 0, 0, 0, 0, 0, 1, 0, 0, 1, 1, 0, 1, 1, 0], [1, 0, 0, 1, 1, 0, 0, 0, 0, 1, 0, 0, 0, 0, 0, 0, 1, 1, 0, 1, 0, 1, 1, 1, 1, 1, 0, 0, 0, 1, 0, 1, 0, 1, 0, 0, 1, 1, 1, 1, 1, 0, 0, 0, 1, 1, 1, 0], [0, 0, 1, 1, 0, 1, 0, 1, 0, 1, 0, 0, 1, 0, 1, 1, 0, 0, 0, 0, 1, 0, 0, 0, 1, 1, 0, 1, 1, 1, 0, 0, 0, 0, 0, 1, 0, 0, 1, 0, 1, 1, 0, 1, 1, 1, 0, 1], [0, 0, 0, 0, 0, 0, 1, 0, 0, 0, 1, 1, 0, 0, 0, 1, 1, 0, 1, 0, 0, 1, 0, 1, 1, 1, 0, 1, 0, 0, 1, 1, 1, 1, 0, 1, 0, 0, 1, 0, 1, 1, 1, 0, 1, 1, 0, 1], [1, 0, 0, 1, 1, 0, 0, 1, 0, 0, 0, 0, 1, 1, 0, 0, 0, 1, 0, 1, 0, 1, 0, 1, 0, 0, 0, 1, 0, 0, 1, 0, 1, 0, 1, 1, 1, 1, 1, 1, 1, 0, 1, 0, 1, 0, 0, 1], [0, 1, 0, 0, 0, 1, 0, 1, 0, 1, 1, 0, 0, 0, 1, 0, 1, 0, 1, 0, 1, 0, 0, 0, 1, 0, 1, 1, 1, 0, 1, 0, 0, 0, 1, 1, 1, 1, 0, 1, 0, 0, 1, 1, 0, 1, 0, 1], [0, 1, 1, 0, 0, 1, 0, 0, 1, 0, 1, 0, 0, 0, 0, 1, 1, 0, 1, 0, 1, 1, 0, 0, 1, 0, 1, 0, 1, 1, 1, 1, 0, 1, 0, 1, 0, 0, 0, 0, 1, 1, 1, 0, 0, 1, 1, 1]]\n"
          ]
        }
      ]
    },
    {
      "cell_type": "markdown",
      "metadata": {
        "id": "iH9K5WDaA4T8"
      },
      "source": [
        "Hàm chuyển số thập phân khi dò S-box về mảng nhị phân:"
      ]
    },
    {
      "cell_type": "code",
      "metadata": {
        "id": "zKczC9LPA-OT"
      },
      "source": [
        "def decToBinArr(input):\n",
        "  output = [0, 0, 0, 0]\n",
        "  i = 3\n",
        "  for i in reversed(range(4)):\n",
        "    output[i] = input % 2\n",
        "    input //= 2\n",
        "  return output"
      ],
      "execution_count": 20,
      "outputs": []
    },
    {
      "cell_type": "code",
      "metadata": {
        "colab": {
          "base_uri": "https://localhost:8080/"
        },
        "id": "nZduQxPXhni9",
        "outputId": "99e25e72-6d19-45c6-c257-225d452bee3e"
      },
      "source": [
        "# Test\n",
        "print(decToBinArr(14))\n",
        "print(decToBinArr(10))\n",
        "print(decToBinArr(6))"
      ],
      "execution_count": 29,
      "outputs": [
        {
          "output_type": "stream",
          "name": "stdout",
          "text": [
            "[1, 1, 1, 0]\n",
            "[1, 0, 1, 0]\n",
            "[0, 1, 1, 0]\n"
          ]
        }
      ]
    },
    {
      "cell_type": "markdown",
      "metadata": {
        "id": "ZVDsbJ2GIJVD"
      },
      "source": [
        "### Hàm giải mã DES:"
      ]
    },
    {
      "cell_type": "code",
      "metadata": {
        "id": "8fFghS8bIHx1"
      },
      "source": [
        "def decrypt(ciphertext, key):\n",
        "  print(\"TODO\")"
      ],
      "execution_count": null,
      "outputs": []
    },
    {
      "cell_type": "markdown",
      "metadata": {
        "id": "BvNbMdDvIWKb"
      },
      "source": [
        "## Triple DES (3DES)\n",
        "\n",
        "*Nguồn: [Triple DES](https://en.wikipedia.org/wiki/Triple_DES)*\n",
        "\n",
        "Được biết đến là hệ cải tiến của DES, bằng cách sử dụng DES 3 lần với key riêng biệt.\n",
        "abcxyz"
      ]
    },
    {
      "cell_type": "markdown",
      "metadata": {
        "id": "aYldq1EPRsEB"
      },
      "source": [
        "# Demo\n",
        "\n",
        "## DES\n",
        "\n",
        "Nhập lời nhắn `msg` cần mã hoá và khoá `key`."
      ]
    },
    {
      "cell_type": "code",
      "metadata": {
        "id": "xXWf4aWFRonc"
      },
      "source": [
        "msg = \"xin chao thay va cac ban\"\n",
        "key = \"abcxyz\""
      ],
      "execution_count": null,
      "outputs": []
    },
    {
      "cell_type": "markdown",
      "metadata": {
        "id": "huN2pecNSDfj"
      },
      "source": [
        "Chạy hàm mã hoá:"
      ]
    },
    {
      "cell_type": "code",
      "metadata": {
        "id": "f0-3klQMSGJB",
        "colab": {
          "base_uri": "https://localhost:8080/"
        },
        "outputId": "e6244c8c-a21f-4b54-8731-2ba8206ac1ec"
      },
      "source": [
        "cipher = encrypt(msg, key)\n",
        "print(cipher)"
      ],
      "execution_count": null,
      "outputs": [
        {
          "output_type": "stream",
          "name": "stdout",
          "text": [
            "TODO\n",
            "None\n"
          ]
        }
      ]
    },
    {
      "cell_type": "markdown",
      "metadata": {
        "id": "TXzS9gNMSUx8"
      },
      "source": [
        "Giải mã ngược lại:"
      ]
    },
    {
      "cell_type": "code",
      "metadata": {
        "id": "PLpWpkj2SYt9"
      },
      "source": [
        "text = decrypt(cipher, key)\n",
        "print(text)"
      ],
      "execution_count": null,
      "outputs": []
    },
    {
      "cell_type": "markdown",
      "metadata": {
        "id": "itfb8rFsSlrK"
      },
      "source": [
        "## 3DES\n",
        "Nhập lời nhắn `msg2` và 3 khoá riêng biệt `key1`, `key2`, `key3`:"
      ]
    },
    {
      "cell_type": "code",
      "metadata": {
        "id": "80OLKBRiSlSd"
      },
      "source": [
        "msg2 = \"Thu nghiem thuat toan 3DES\"\n",
        "key1 = \"hello\"\n",
        "key2 = \"goodbye\"\n",
        "key3 = \"abc\""
      ],
      "execution_count": null,
      "outputs": []
    },
    {
      "cell_type": "markdown",
      "metadata": {
        "id": "X1vcu4zjS6Xe"
      },
      "source": [
        "Mã hoá 3DES:"
      ]
    },
    {
      "cell_type": "code",
      "metadata": {
        "id": "FQofvrsbS9Ld"
      },
      "source": [
        "cipher2 = encrypt(decrypt(encrypt(msg2,key1),key2),key3)\n",
        "print(cipher2)"
      ],
      "execution_count": null,
      "outputs": []
    },
    {
      "cell_type": "markdown",
      "metadata": {
        "id": "OHp2K2gFTcYz"
      },
      "source": [
        "Giải mã 3DES:"
      ]
    },
    {
      "cell_type": "code",
      "metadata": {
        "id": "8Lv6kuerTed_"
      },
      "source": [
        "text2 = decrypt(encrypt(decrypt(cipher2,key3),key2),key1)\n",
        "print(text2)"
      ],
      "execution_count": null,
      "outputs": []
    }
  ]
}