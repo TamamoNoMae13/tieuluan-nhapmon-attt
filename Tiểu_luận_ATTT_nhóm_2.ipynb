{
  "nbformat": 4,
  "nbformat_minor": 0,
  "metadata": {
    "colab": {
      "name": "Tiểu luận ATTT nhóm 2.ipynb",
      "provenance": [],
      "collapsed_sections": [],
      "toc_visible": true,
      "authorship_tag": "ABX9TyOj2AjTcdhHQY6Cl0xVlkv6",
      "include_colab_link": true
    },
    "kernelspec": {
      "name": "python3",
      "display_name": "Python 3"
    },
    "language_info": {
      "name": "python"
    }
  },
  "cells": [
    {
      "cell_type": "markdown",
      "metadata": {
        "id": "view-in-github",
        "colab_type": "text"
      },
      "source": [
        "<a href=\"https://colab.research.google.com/github/TamamoNoMae13/tieuluan-nhapmon-attt/blob/patch-1/Ti%E1%BB%83u_lu%E1%BA%ADn_ATTT_nh%C3%B3m_2.ipynb\" target=\"_parent\"><img src=\"https://colab.research.google.com/assets/colab-badge.svg\" alt=\"Open In Colab\"/></a>"
      ]
    },
    {
      "cell_type": "markdown",
      "metadata": {
        "id": "pax6GkYdBnCH"
      },
      "source": [
        "# Tiểu luận nhóm 2\n",
        "\n",
        "Đề tài: Lập trình hệ mật DES và 3DES"
      ]
    },
    {
      "cell_type": "markdown",
      "metadata": {
        "id": "KfoX6y2yUNuV"
      },
      "source": [
        "# Thành viên nhóm\n",
        "\n",
        "| Mã sinh viên | Họ và tên |\n",
        "| :-- | :-- |\n",
        "| 18020583 | Nguyễn Mạnh Hùng |\n",
        "| 18020675 | Trần Trọng Nguyễn Khang |\n",
        "| 18021412 | Vũ Tố Uyên |"
      ]
    },
    {
      "cell_type": "markdown",
      "metadata": {
        "id": "aNVI4qVHW9Ky"
      },
      "source": [
        "<!---\n",
        "  guide: https://www.w3schools.io/file/markdown-cheatsheet/\n",
        "  chuẩn hoá:\n",
        "    - 2 space + enter = xuống dòng\n",
        "    - 2 enter = div/paragraph mới\n",
        "--->\n",
        "\n",
        "# Data Encryption Standard\n",
        "\n",
        "*Nguồn: [Data Encryption Standard](https://en.wikipedia.org/wiki/Triple_DES)*\n",
        "\n",
        "Biến đổi trật tự với IP, áp dụng thuật toán Feistel 16 vòng, biến đổi trật tự lại với IP<sup>-1</sup>\n",
        "\n",
        "abcxyz"
      ]
    },
    {
      "cell_type": "markdown",
      "metadata": {
        "id": "HBtp_pFlYpJB"
      },
      "source": [
        "## Feistel cipher\n",
        "\n",
        "*Nguồn: [Feistel cipher](https://en.wikipedia.org/wiki/Feistel_cipher)*\n",
        "\n",
        "Feistel cipher, hay còn được biết đến với tên gọi khác là Luby–Rackoff block cipher, abcxyz\n",
        "\n",
        "![diagram](https://upload.wikimedia.org/wikipedia/commons/thumb/f/fa/Feistel_cipher_diagram_en.svg/328px-Feistel_cipher_diagram_en.svg.png)"
      ]
    },
    {
      "cell_type": "markdown",
      "metadata": {
        "id": "nyMYvNfF_NVg"
      },
      "source": [
        "## Triple DES (TDES, 3DES)\n",
        "\n",
        "*Nguồn: [Triple DES](https://en.wikipedia.org/wiki/Triple_DES)*\n",
        "\n",
        "Được biết đến là hệ cải tiến của DES, bằng cách sử dụng DES 3 lần với key riêng biệt.\n",
        "\n",
        "abcxyz"
      ]
    },
    {
      "cell_type": "markdown",
      "metadata": {
        "id": "GcCvtChOGxqV"
      },
      "source": [
        "# Tự thiết kế nhân DES (bằng `python3`):\n"
      ]
    },
    {
      "cell_type": "markdown",
      "metadata": {
        "id": "hXjhDcYtQAcQ"
      },
      "source": [
        "## Một số ma trận biến đổi mẫu\n",
        "\n",
        "Tất cả đều tính theo hệ đếm bắt đầu từ 1."
      ]
    },
    {
      "cell_type": "code",
      "metadata": {
        "id": "gW1m5Tk18OU0"
      },
      "source": [
        "# Key Permutation Choice 1st table\n",
        "PC1 = [57, 49, 41, 33, 25, 17, 9,\n",
        "       1, 58, 50, 42, 34, 26, 18,\n",
        "       10, 2, 59, 51, 43, 35, 27,\n",
        "       19, 11, 3, 60, 52, 44, 36,\n",
        "       63, 55, 47, 39, 31, 23, 15,\n",
        "       7, 62, 54, 46, 38, 30, 22,\n",
        "       14, 6, 61, 53, 45, 37, 29,\n",
        "       21, 13, 5, 28, 20, 12, 4]\n",
        "\n",
        "# Number of bit(s) get left-shift (base on current round)\n",
        "SHIFT_TABLE = [1, 1, 2, 2, 2, 2, 2, 2,\n",
        "               1, 2, 2, 2, 2, 2, 2, 1]\n",
        "\n",
        "# Key Permutation Choice 2nd table\n",
        "PC2 = [14, 17, 11, 24, 1, 5,\n",
        "       3, 28, 15, 6, 21, 10,\n",
        "       23, 19, 12, 4, 26, 8,\n",
        "       16, 7, 27, 20, 13, 2,\n",
        "       41, 52, 31, 37, 47, 55,\n",
        "       30, 40, 51, 45, 33, 48,\n",
        "       44, 49, 39, 56, 34, 53,\n",
        "       46, 42, 50, 36, 29, 32]\n",
        "\n",
        "# Input -> Initial permutation table\n",
        "IP = [58, 50, 42, 34, 26, 18, 10, 2,\n",
        "      60, 52, 44, 36, 28, 20, 12, 4,\n",
        "      62, 54, 46, 38, 30, 22, 14, 6,\n",
        "      64, 56, 48, 40, 32, 24, 16, 8,\n",
        "      57, 49, 41, 33, 25, 17, 9, 1,\n",
        "      59, 51, 43, 35, 27, 19, 11, 3,\n",
        "      61, 53, 45, 37, 29, 21, 13, 5,\n",
        "      63, 55, 47, 39, 31, 23, 15, 7]\n",
        "\n",
        "# E-bit selection table (Expansion D-Box)\n",
        "EXP_D = [32, 1, 2, 3, 4, 5,\n",
        "         4, 5, 6, 7, 8, 9,\n",
        "         8, 9, 10, 11, 12, 13,\n",
        "         12, 13, 14, 15, 16, 17,\n",
        "         16, 17, 18, 19, 20, 21,\n",
        "         20, 21, 22, 23, 24, 25,\n",
        "         24, 25, 26, 27, 28, 29,\n",
        "         28, 29, 30, 31, 32, 1]\n",
        "\n",
        "# S-box\n",
        "S_BOX = [[[14, 4, 13, 1, 2, 15, 11, 8, 3, 10, 6, 12, 5, 9, 0, 7],\n",
        "          [0, 15, 7, 4, 14, 2, 13, 1, 10, 6, 12, 11, 9, 5, 3, 8],\n",
        "          [4, 1, 14, 8, 13, 6, 2, 11, 15, 12, 9, 7, 3, 10, 5, 0],\n",
        "          [15, 12, 8, 2, 4, 9, 1, 7, 5, 11, 3, 14, 10, 0, 6, 13]],\n",
        "\n",
        "         [[15, 1, 8, 14, 6, 11, 3, 4, 9, 7, 2, 13, 12, 0, 5, 10],\n",
        "          [3, 13, 4, 7, 15, 2, 8, 14, 12, 0, 1, 10, 6, 9, 11, 5],\n",
        "          [0, 14, 7, 11, 10, 4, 13, 1, 5, 8, 12, 6, 9, 3, 2, 15],\n",
        "          [13, 8, 10, 1, 3, 15, 4, 2, 11, 6, 7, 12, 0, 5, 14, 9]],\n",
        "\n",
        "         [[10, 0, 9, 14, 6, 3, 15, 5, 1, 13, 12, 7, 11, 4, 2, 8],\n",
        "          [13, 7, 0, 9, 3, 4, 6, 10, 2, 8, 5, 14, 12, 11, 15, 1],\n",
        "          [13, 6, 4, 9, 8, 15, 3, 0, 11, 1, 2, 12, 5, 10, 14, 7],\n",
        "          [1, 10, 13, 0, 6, 9, 8, 7, 4, 15, 14, 3, 11, 5, 2, 12]],\n",
        "\n",
        "         [[7, 13, 14, 3, 0, 6, 9, 10, 1, 2, 8, 5, 11, 12, 4, 15],\n",
        "          [13, 8, 11, 5, 6, 15, 0, 3, 4, 7, 2, 12, 1, 10, 14, 9],\n",
        "          [10, 6, 9, 0, 12, 11, 7, 13, 15, 1, 3, 14, 5, 2, 8, 4],\n",
        "          [3, 15, 0, 6, 10, 1, 13, 8, 9, 4, 5, 11, 12, 7, 2, 14]],\n",
        "\n",
        "         [[2, 12, 4, 1, 7, 10, 11, 6, 8, 5, 3, 15, 13, 0, 14, 9],\n",
        "          [14, 11, 2, 12, 4, 7, 13, 1, 5, 0, 15, 10, 3, 9, 8, 6],\n",
        "          [4, 2, 1, 11, 10, 13, 7, 8, 15, 9, 12, 5, 6, 3, 0, 14],\n",
        "          [11, 8, 12, 7, 1, 14, 2, 13, 6, 15, 0, 9, 10, 4, 5, 3]],\n",
        "\n",
        "         [[12, 1, 10, 15, 9, 2, 6, 8, 0, 13, 3, 4, 14, 7, 5, 11],\n",
        "          [10, 15, 4, 2, 7, 12, 9, 5, 6, 1, 13, 14, 0, 11, 3, 8],\n",
        "          [9, 14, 15, 5, 2, 8, 12, 3, 7, 0, 4, 10, 1, 13, 11, 6],\n",
        "          [4, 3, 2, 12, 9, 5, 15, 10, 11, 14, 1, 7, 6, 0, 8, 13]],\n",
        "\n",
        "         [[4, 11, 2, 14, 15, 0, 8, 13, 3, 12, 9, 7, 5, 10, 6, 1],\n",
        "          [13, 0, 11, 7, 4, 9, 1, 10, 14, 3, 5, 12, 2, 15, 8, 6],\n",
        "          [1, 4, 11, 13, 12, 3, 7, 14, 10, 15, 6, 8, 0, 5, 9, 2],\n",
        "          [6, 11, 13, 8, 1, 4, 10, 7, 9, 5, 0, 15, 14, 2, 3, 12]],\n",
        "\n",
        "         [[13, 2, 8, 4, 6, 15, 11, 1, 10, 9, 3, 14, 5, 0, 12, 7],\n",
        "          [1, 15, 13, 8, 10, 3, 7, 4, 12, 5, 6, 11, 0, 14, 9, 2],\n",
        "          [7, 11, 4, 1, 9, 12, 14, 2, 0, 6, 10, 13, 15, 3, 5, 8],\n",
        "          [2, 1, 14, 7, 4, 10, 8, 13, 15, 12, 9, 0, 3, 5, 6, 11]]]\n",
        "\n",
        "# Straight Permutation table (or D-box)\n",
        "D_BOX = [16, 7, 20, 21,\n",
        "         29, 12, 28, 17,\n",
        "         1, 15, 23, 26,\n",
        "         5, 18, 31, 10,\n",
        "         2, 8, 24, 14,\n",
        "         32, 27, 3, 9,\n",
        "         19, 13, 30, 6,\n",
        "         22, 11, 4, 25]\n",
        "\n",
        "# Inverse of Initial permutation table\n",
        "IP1 = [40, 8, 48, 16, 56, 24, 64, 32,\n",
        "       39, 7, 47, 15, 55, 23, 63, 31,\n",
        "       38, 6, 46, 14, 54, 22, 62, 30,\n",
        "       37, 5, 45, 13, 53, 21, 61, 29,\n",
        "       36, 4, 44, 12, 52, 20, 60, 28,\n",
        "       35, 3, 43, 11, 51, 19, 59, 27,\n",
        "       34, 2, 42, 10, 50, 18, 58, 26,\n",
        "       33, 1, 41, 9, 49, 17, 57, 25]"
      ],
      "execution_count": 10,
      "outputs": []
    },
    {
      "cell_type": "markdown",
      "metadata": {
        "id": "UuHmS5BOia8e"
      },
      "source": [
        "## Các hàm hỗ trợ việc mã hoá"
      ]
    },
    {
      "cell_type": "markdown",
      "metadata": {
        "id": "L9juAfm5cvTM"
      },
      "source": [
        "### Hàm biến đổi trật tự theo ma trận"
      ]
    },
    {
      "cell_type": "code",
      "metadata": {
        "id": "Upm5MUYscyEP"
      },
      "source": [
        "def permute(input, matrix):\n",
        "  output = \"\"\n",
        "  for x in matrix:\n",
        "    output += input[x-1]\n",
        "  return output"
      ],
      "execution_count": 11,
      "outputs": []
    },
    {
      "cell_type": "code",
      "metadata": {
        "colab": {
          "base_uri": "https://localhost:8080/",
          "height": 36
        },
        "id": "l-2uiRTs2573",
        "outputId": "b3c3d5ca-24d4-45de-88e3-911ef4cda89b"
      },
      "source": [
        "# Test\n",
        "permute(\"1234567890123456789012345678901234567890123456789012345678901234\", IP)"
      ],
      "execution_count": 12,
      "outputs": [
        {
          "output_type": "execute_result",
          "data": {
            "application/vnd.google.colaboratory.intrinsic+json": {
              "type": "string"
            },
            "text/plain": [
              "'8024680202468024246802464680246879135791913579131357913535791357'"
            ]
          },
          "metadata": {},
          "execution_count": 12
        }
      ]
    },
    {
      "cell_type": "markdown",
      "metadata": {
        "id": "RpvqR-8ZtupZ"
      },
      "source": [
        "### Hàm dịch trái bit và hàm tạo 16 sub-keys 48-bit từ key 64-bit"
      ]
    },
    {
      "cell_type": "code",
      "metadata": {
        "id": "htCwGCYBtuFb"
      },
      "source": [
        "def left_shift(s, k):  # shift left k times\n",
        "  return s[k:len(s)] + s[0:k]\n",
        "\n",
        "def gen_subkeys(key):\n",
        "  # 64-bit key ----PC1----> 56-bit ----> 2 halves (28-bit each)\n",
        "  k_c = permute(key, PC1[0:28])\n",
        "  k_d = permute(key, PC1[28:56])\n",
        "  # Generate subkeys\n",
        "  sub_keys = []\n",
        "  for i in range(16):\n",
        "    # Left shift i-bit, base on current round\n",
        "    k_c = left_shift(k_c, SHIFT_TABLE[i])\n",
        "    k_d = left_shift(k_d, SHIFT_TABLE[i])\n",
        "    # Join 2 halves ----PC2----> 48-bit, add to List\n",
        "    sub_keys.append(permute(k_c + k_d, PC2))\n",
        "  return sub_keys"
      ],
      "execution_count": 13,
      "outputs": []
    },
    {
      "cell_type": "code",
      "metadata": {
        "id": "dXmGYjYYhwp2",
        "colab": {
          "base_uri": "https://localhost:8080/",
          "height": 36
        },
        "outputId": "bf1fd091-cc7a-4a44-e632-8af163f45e5a"
      },
      "source": [
        "# Test\n",
        "left_shift(\"1234567890\", 2)"
      ],
      "execution_count": 31,
      "outputs": [
        {
          "output_type": "execute_result",
          "data": {
            "application/vnd.google.colaboratory.intrinsic+json": {
              "type": "string"
            },
            "text/plain": [
              "'3456789012'"
            ]
          },
          "metadata": {},
          "execution_count": 31
        }
      ]
    },
    {
      "cell_type": "code",
      "metadata": {
        "colab": {
          "base_uri": "https://localhost:8080/"
        },
        "id": "OApv6mro4gWy",
        "outputId": "4f646d84-9503-4c7b-9e82-8ee1caea616f"
      },
      "source": [
        "# Test\n",
        "gen_subkeys(\"1234567890123456789012345678901234567890123456789012345678901234\")"
      ],
      "execution_count": 32,
      "outputs": [
        {
          "output_type": "execute_result",
          "data": {
            "text/plain": [
              "['014097372992356548916781289474705339118350543251',\n",
              " '236219599114078760187903401693928551330572765473',\n",
              " '170658933008412194521397145037362925784943130817',\n",
              " '519992877442701038965231552481733360121387574254',\n",
              " '903386211871145472309670996125477804535721015628',\n",
              " '347720600215579811298914330532811245079465459362',\n",
              " '271169044159913205632308874976255319413832503706',\n",
              " '610003987593852149976742241310602753558276947143',\n",
              " '732225109710074361198969463532124975770498132365',\n",
              " '176619593104417700532893507076538312144132576839',\n",
              " '519053937047801194921237941443972756585586210273',\n",
              " '903992371481245037865671315587316400229923654318',\n",
              " '847336210725189471299010750921853844663337021752',\n",
              " '281729604119528715633904494365227251037871465103',\n",
              " '620163948558912109072347835730361695474215109547',\n",
              " '892375160770134321294569057252583117696438321739']"
            ]
          },
          "metadata": {},
          "execution_count": 32
        }
      ]
    },
    {
      "cell_type": "markdown",
      "metadata": {
        "id": "iH9K5WDaA4T8"
      },
      "source": [
        "### Hàm thu gọn 48-bit còn 32-bit thông qua S-box"
      ]
    },
    {
      "cell_type": "code",
      "metadata": {
        "id": "zKczC9LPA-OT"
      },
      "source": [
        "def dec_to_bin(dec_num):  # decimal to 4-bit binary\n",
        "  output = \"\"\n",
        "  for i in reversed(range(4)):\n",
        "    output = str(dec_num % 2) + output\n",
        "    dec_num //= 2\n",
        "  return output\n",
        "\n",
        "def s_boxes(input):\n",
        "  output = \"\"\n",
        "  for i in range(8):  # Go through 8 S-boxes\n",
        "    row = 2*int(input[(6*i)]) + int(input[(6*i+5)])  # 1st and 6th bit\n",
        "    # 2nd-5th bit\n",
        "    column = 8*int(input[(6*i+1)]) + 4*int(input[(6*i+2)]) + 2*int(input[(6*i+3)]) + int(input[(6*i+4)])\n",
        "    # Check value in S-box[i] & put 4-bit result from S-box to arrS\n",
        "    output += dec_to_bin(S_BOX[i][row][column])\n",
        "  return output"
      ],
      "execution_count": 14,
      "outputs": []
    },
    {
      "cell_type": "code",
      "metadata": {
        "id": "nZduQxPXhni9",
        "colab": {
          "base_uri": "https://localhost:8080/",
          "height": 36
        },
        "outputId": "975095ae-7ea0-4b0d-8a9a-88c725a63053"
      },
      "source": [
        "# Test\n",
        "dec_to_bin(8)"
      ],
      "execution_count": 9,
      "outputs": [
        {
          "output_type": "execute_result",
          "data": {
            "application/vnd.google.colaboratory.intrinsic+json": {
              "type": "string"
            },
            "text/plain": [
              "'1000'"
            ]
          },
          "metadata": {},
          "execution_count": 9
        }
      ]
    },
    {
      "cell_type": "code",
      "metadata": {
        "colab": {
          "base_uri": "https://localhost:8080/",
          "height": 36
        },
        "id": "QACQei9h5U56",
        "outputId": "1c152785-9438-4023-c421-c0c9997a665f"
      },
      "source": [
        "# Test\n",
        "s_boxes(\"111010010101111100100110010000100101010010101101\")"
      ],
      "execution_count": 21,
      "outputs": [
        {
          "output_type": "execute_result",
          "data": {
            "application/vnd.google.colaboratory.intrinsic+json": {
              "type": "string"
            },
            "text/plain": [
              "'10100001111000001000001011001000'"
            ]
          },
          "metadata": {},
          "execution_count": 21
        }
      ]
    },
    {
      "cell_type": "markdown",
      "metadata": {
        "id": "mjeLDNGsHll0"
      },
      "source": [
        "### Hàm tính XOR 2 xâu nhị phân"
      ]
    },
    {
      "cell_type": "code",
      "metadata": {
        "id": "E8mDyVCBHrKK"
      },
      "source": [
        "def calc_xor(bin_str1, bin_str2):\n",
        "  output = \"\"\n",
        "  for i in range(len(bin_str1)):\n",
        "    output += str(int(bin_str1[i]) ^ int(bin_str2[i]))\n",
        "  return output"
      ],
      "execution_count": 15,
      "outputs": []
    },
    {
      "cell_type": "code",
      "metadata": {
        "id": "6RfvPHxDQwAj",
        "colab": {
          "base_uri": "https://localhost:8080/"
        },
        "outputId": "7b5d94ab-a046-4693-872f-8666bd5979df"
      },
      "source": [
        "# Test\n",
        "a = \"11010110101110010000010010001010\"\n",
        "b = \"10000100110010100111000101111011\"\n",
        "print(\"  a =\", a)\n",
        "print(\"  b =\", b)\n",
        "print(\"xor =\", calc_xor(a,b))"
      ],
      "execution_count": 48,
      "outputs": [
        {
          "output_type": "stream",
          "name": "stdout",
          "text": [
            "  a = 11010110101110010000010010001010\n",
            "  b = 10000100110010100111000101111011\n",
            "xor = 01010010011100110111010111110001\n"
          ]
        }
      ]
    },
    {
      "cell_type": "markdown",
      "metadata": {
        "id": "RJiJ1VwRYGqp"
      },
      "source": [
        "## Hàm mã hóa và giải mã DES (tin và khoá đều ở dạng 64-bit nhị phân)"
      ]
    },
    {
      "cell_type": "code",
      "metadata": {
        "id": "4H_bs9pXBl_s"
      },
      "source": [
        "def des(text, key, mode):\n",
        "  # Encrypt: Use sub-keys in original order\n",
        "  # Decrypt: Reverse the order of sub-keys\n",
        "  ord = range(16)\n",
        "  if mode == 'd':\n",
        "    ord = reversed(range(16))\n",
        "  # Get keys for 16 rounds of DES\n",
        "  sub_keys = gen_subkeys(key)\n",
        "  # Text ----IP----> 64-bit ----> 2 halves (32-bit each)\n",
        "  left_half = permute(text, IP[0:32])\n",
        "  right_half = permute(text, IP[32:64])\n",
        "  # Starting 16 rounds of Feistel cipher\n",
        "  for r in ord:\n",
        "    # Right-half (32-bit) ----expand----> 48-bit ----S_BOX\n",
        "    #                                                  |\n",
        "    #                                                  V\n",
        "    # XOR with left-half----- 32-bit <----D_BOX---- 32-bit\n",
        "    #        |\n",
        "    #        v\n",
        "    # New right-half (32-bit)\n",
        "    new_r_half = calc_xor(left_half, permute(s_boxes(calc_xor(permute(right_half, EXP_D), sub_keys[r])), D_BOX))\n",
        "    left_half = right_half  # New left-half <-- old right-half\n",
        "    right_half = new_r_half  # Assign new right-half\n",
        "  # Join 2 halves and permute with inverse IP\n",
        "  return permute(right_half + left_half, IP1)"
      ],
      "execution_count": 16,
      "outputs": []
    },
    {
      "cell_type": "code",
      "metadata": {
        "colab": {
          "base_uri": "https://localhost:8080/"
        },
        "id": "A0pyDY9KKkVQ",
        "outputId": "722b9ffe-1fb8-42c9-8dcf-b6ada28261d4"
      },
      "source": [
        "# Test\n",
        "x = \"0001001000110100010101101010101111001101000100110010010100110110\"  # 123456ABCD132536\n",
        "k = \"1010101010111011000010010001100000100111001101101100110011011101\"  # AABB09182736CCDD\n",
        "y = des(x, k, 'e')  # C0B7A8D05F3A829C\n",
        "x2 = des(y, k, 'd')  # 123456ABCD132536\n",
        "print(y, x2, x == x2, sep='\\n')"
      ],
      "execution_count": 49,
      "outputs": [
        {
          "output_type": "stream",
          "name": "stdout",
          "text": [
            "1100000010110111101010001101000001011111001110101000001010011100\n",
            "0001001000110100010101101010101111001101000100110010010100110110\n",
            "True\n"
          ]
        }
      ]
    },
    {
      "cell_type": "markdown",
      "metadata": {
        "id": "BvNbMdDvIWKb"
      },
      "source": [
        "# Thiết kế 3DES (tin và khoá đều ở dạng 64-bit nhị phân):"
      ]
    },
    {
      "cell_type": "code",
      "metadata": {
        "id": "2FiKitiz92nv"
      },
      "source": [
        "def triple_des(msg, k1, k2, k3, mode):\n",
        "  if mode == 'e':\n",
        "    return des(des(des(msg, k1, \"e\"), k2, \"d\"), k3, \"e\")\n",
        "  else:\n",
        "    return des(des(des(msg, k3, \"d\"), k2, \"e\"), k1, \"d\")"
      ],
      "execution_count": 19,
      "outputs": []
    },
    {
      "cell_type": "code",
      "metadata": {
        "colab": {
          "base_uri": "https://localhost:8080/"
        },
        "id": "OhfAJNhlTnNq",
        "outputId": "07761d3c-570a-4b96-bc42-202ff8eb322d"
      },
      "source": [
        "# Test\n",
        "x = \"0000000100100011010001010110011110001001101010111100110111101111\"  # 0123456789abcdef\n",
        "k1 = \"0001001101010111100110111101111100010011010101111001101111011111\"  # 13579bdf13579bdf\n",
        "k2 = \"0000001001000110100010101100111000000010010001101000101011001110\"  # 02468ace02468ace\n",
        "k3 = \"1111111011011100101110101001100001110110010101000011001000010000\"  # fedcba9876543210\n",
        "y = triple_des(x, k1, k2, k3, 'e')  # 73d212637387a5db\n",
        "print(y)\n",
        "x2 = triple_des(y, k1, k2, k3, 'd')  # 0123456789abcdef\n",
        "print(x2)\n",
        "print(x == x2)"
      ],
      "execution_count": 20,
      "outputs": [
        {
          "output_type": "stream",
          "name": "stdout",
          "text": [
            "0111001111010010000100100110001101110011100001111010010111011011\n",
            "0000000100100011010001010110011110001001101010111100110111101111\n",
            "True\n"
          ]
        }
      ]
    },
    {
      "cell_type": "markdown",
      "metadata": {
        "id": "rHqzFOC392_u"
      },
      "source": [
        "# Áp dụng mã hoá tin với DES, 3DES và giải mã"
      ]
    },
    {
      "cell_type": "markdown",
      "metadata": {
        "id": "lj-0sR00hj6G"
      },
      "source": [
        "## Các hàm hỗ trợ"
      ]
    },
    {
      "cell_type": "markdown",
      "metadata": {
        "id": "D8Y2sLLTQJrL"
      },
      "source": [
        "### Hàm chuyển tin và khoá sang xâu nhị phân; và ngược lại\n",
        "\n",
        "**Hỗ trợ:**\n",
        "\n",
        "- UTF-8 &rarr; Binary,\n",
        "- Hexadecimal &rarr; Binary,\n",
        "- Binary &rarr; Hexadecimal,\n",
        "- Binary &rarr; UTF-8."
      ]
    },
    {
      "cell_type": "code",
      "metadata": {
        "id": "qX-EctODh35V"
      },
      "source": [
        "import math\n",
        "\n",
        "def to_bin(txt_str, enc):\n",
        "  if enc == \"hex\":\n",
        "    return ''.join([\"{0:04b}\".format(int(char,16)) for char in txt_str])\n",
        "  return ''.join(bin(char)[2:].zfill(8) for char in txt_str.encode('utf-8'))\n",
        "\n",
        "def to_text(bin_str, enc):\n",
        "  if enc == \"hex\":\n",
        "    return hex(int(bin_str, 2))[2:]\n",
        "  required_bytes = math.ceil(len(bin_str) / 8)\n",
        "  return int(bin_str, 2).to_bytes(required_bytes, 'big').decode('utf-8')"
      ],
      "execution_count": 21,
      "outputs": []
    },
    {
      "cell_type": "code",
      "metadata": {
        "id": "lx-Vz6jBi-SL",
        "colab": {
          "base_uri": "https://localhost:8080/"
        },
        "outputId": "8f0e0778-81f8-4e73-dba0-07e08c0e3060"
      },
      "source": [
        "# Test\n",
        "print(to_bin(\"0123456789abcdef0123456789abcdef\", \"hex\"))\n",
        "print(to_text(\"00000001001000110100010101100111100010011010101111001101111011110000000100100011010001010110011110001001101010111100110111101111\",\"hex\"))\n",
        "testStr1 = \"abcd\"  # hexadecimal\n",
        "testStr2 = \"あい\"  # utf8\n",
        "testStr1b = to_bin(testStr1, \"hex\")\n",
        "testStr2b = to_bin(testStr2, \"utf8\")\n",
        "print(testStr1b, testStr2b, sep='\\n')\n",
        "testStr1c = to_text(testStr1b, \"hex\")\n",
        "testStr2c = to_text(testStr2b, \"utf8\")\n",
        "print(testStr1c, testStr1 == testStr1c)\n",
        "print(testStr2c, testStr2 == testStr2c)"
      ],
      "execution_count": 83,
      "outputs": [
        {
          "output_type": "stream",
          "name": "stdout",
          "text": [
            "00000001001000110100010101100111100010011010101111001101111011110000000100100011010001010110011110001001101010111100110111101111\n",
            "123456789abcdef0123456789abcdef\n",
            "1010101111001101\n",
            "111000111000000110000010111000111000000110000100\n",
            "abcd True\n",
            "あい True\n"
          ]
        }
      ]
    },
    {
      "cell_type": "markdown",
      "metadata": {
        "id": "iDe5NEk4iZ6b"
      },
      "source": [
        "### Hàm chèn `0` vào cuối xâu\n",
        "\n",
        "Giúp đệm đoạn tin cần mã hoá đủ bit = bội của 64."
      ]
    },
    {
      "cell_type": "code",
      "metadata": {
        "id": "nDls38FY3vIh"
      },
      "source": [
        "def add_trailing_zero(s):\n",
        "  N = 64 % (64 - len(s) % 64)\n",
        "  return s + '0' * N"
      ],
      "execution_count": 38,
      "outputs": []
    },
    {
      "cell_type": "code",
      "metadata": {
        "id": "dGKL1bjJeeHK",
        "colab": {
          "base_uri": "https://localhost:8080/"
        },
        "outputId": "3d9299b0-2a58-4b86-c70a-75b91fa9b538"
      },
      "source": [
        "# Test\n",
        "testStr = \"123456789123456789123456789123456789123456789123456789123456789123456789\"  # length = 72\n",
        "testStr2 = add_trailing_zero(testStr)\n",
        "n = len(testStr2)\n",
        "print(\"Length: \" + str(n) + '\\n' + testStr2)"
      ],
      "execution_count": 24,
      "outputs": [
        {
          "output_type": "stream",
          "name": "stdout",
          "text": [
            "Length: 128\n",
            "12345678912345678912345678912345678912345678912345678912345678912345678900000000000000000000000000000000000000000000000000000000\n"
          ]
        }
      ]
    },
    {
      "cell_type": "markdown",
      "metadata": {
        "id": "L93p26vbRnYj"
      },
      "source": [
        "### Hàm tách xâu tin nhị phân dài thành mảng chứa các block 64-bit"
      ]
    },
    {
      "cell_type": "code",
      "metadata": {
        "id": "vtbqZi0qRm3L"
      },
      "source": [
        "def split_block(bin_str):  # input is a multiple-of-64 bit string\n",
        "  output = []\n",
        "  for i in range(len(bin_str) // 64):\n",
        "    output.append(bin_str[64*i:64*i+64])\n",
        "  return output"
      ],
      "execution_count": 25,
      "outputs": []
    },
    {
      "cell_type": "code",
      "metadata": {
        "colab": {
          "base_uri": "https://localhost:8080/"
        },
        "id": "OV3X68iiZCw6",
        "outputId": "d773c808-ab18-4304-fae7-4a73cea6c75f"
      },
      "source": [
        "# Test\n",
        "split_block(\"12345678912345678912345678912345678912345678912345678912345678912345678900000000000000000000000000000000000000000000000000000000\")"
      ],
      "execution_count": 26,
      "outputs": [
        {
          "output_type": "execute_result",
          "data": {
            "text/plain": [
              "['1234567891234567891234567891234567891234567891234567891234567891',\n",
              " '2345678900000000000000000000000000000000000000000000000000000000']"
            ]
          },
          "metadata": {},
          "execution_count": 26
        }
      ]
    },
    {
      "cell_type": "markdown",
      "metadata": {
        "id": "H2ERq5e33pUS"
      },
      "source": [
        "### Hàm kiểm tra input"
      ]
    },
    {
      "cell_type": "code",
      "metadata": {
        "id": "aZqt52Uh3pwV"
      },
      "source": [
        "supported_mode = ['e', 'd']\n",
        "supported_enc = [\"utf8\", \"hex\"]\n",
        "\n",
        "def check_input(mode, enc_arr, key_bin_arr):\n",
        "  if mode not in supported_mode:\n",
        "    return \"Please specify if you want to \\\"e\\\"ncode or \\\"d\\\"ecode!\"\n",
        "  for x in enc_arr:\n",
        "    if x not in supported_enc:\n",
        "      return \"Only `utf8` and `hex` are supported.\"\n",
        "  for x in key_bin_arr:\n",
        "    if len(x) != 64:\n",
        "      return \"Your Key or IV is not 64-bit.\"\n",
        "  return True"
      ],
      "execution_count": 78,
      "outputs": []
    },
    {
      "cell_type": "markdown",
      "metadata": {
        "id": "L_B_J3HWYP9H"
      },
      "source": [
        "## Hàm mã hoá và giải mã DES, 3DES (khoá <= 64-bit, không giới hạn ký tự tin)"
      ]
    },
    {
      "cell_type": "markdown",
      "metadata": {
        "id": "EuvewC_Zg216"
      },
      "source": [
        "### Electronic Code Book mode\n",
        "\n",
        "Hay còn được gọi tắt là ECB.  \n",
        "Ở chế độ này, đoạn tin sẽ được phân tách thành các đoạn 64-bit và được mã hoá, sau đó được nối lại thành xâu mã.  \n",
        "Nếu có những đoạn ký tự lặp nhau ở các block của xâu tin, thì xâu mã cũng sẽ có dấu hiệu tương tự."
      ]
    },
    {
      "cell_type": "code",
      "metadata": {
        "id": "CUdCh7nghCCr"
      },
      "source": [
        "def des_ecb(text, text_enc, key, key_enc, mode):\n",
        "  key = to_bin(key, key_enc)\n",
        "  chk = check_input(mode, [text_enc, key_enc], [key])\n",
        "  if chk != True:\n",
        "    return chk\n",
        "  # Add 0-trail and split to multiple 64-bit blocks\n",
        "  text_blocks = split_block(add_trailing_zero(to_bin(text, text_enc)))\n",
        "  output = \"\"\n",
        "  # Enc/Dec with DES\n",
        "  for i in range(len(text_blocks)):\n",
        "    output += des(text_blocks[i], key, mode)\n",
        "  # Convert to hexadecimal and return output\n",
        "  output = to_text(output, \"hex\")\n",
        "  return output\n",
        "\n",
        "def tdes_ecb(text, text_enc, k1, k2, k3, key_enc, mode):\n",
        "  keys = [to_bin(k1, key_enc), to_bin(k2, key_enc), to_bin(k3, key_enc)]\n",
        "  chk = check_input(mode, [text_enc, key_enc], keys)\n",
        "  if chk != True:\n",
        "    return chk\n",
        "  # Add 0-trail and split to multiple 64-bit blocks\n",
        "  text_blocks = split_block(add_trailing_zero(to_bin(text, text_enc)))\n",
        "  output = \"\"\n",
        "  # Enc/Dec with 3DES\n",
        "  for i in range(len(text_blocks)):\n",
        "    output += triple_des(text_blocks[i], keys[0], keys[1], keys[2], mode)\n",
        "  # Convert to hexadecimal and return output\n",
        "  output = to_text(output, \"hex\")\n",
        "  return output"
      ],
      "execution_count": 79,
      "outputs": []
    },
    {
      "cell_type": "code",
      "metadata": {
        "colab": {
          "base_uri": "https://localhost:8080/"
        },
        "id": "MJo2H3UdkLuu",
        "outputId": "125d0d42-3690-4fa9-8178-c6a8fd2158f7"
      },
      "source": [
        "# Test\n",
        "enc = \"hex\"\n",
        "x = \"123456abcd132536123456abcd132536\"\n",
        "k = \"aabb09182736ccdd\"\n",
        "y = des_ecb(x, enc, k, enc, 'e')\n",
        "x2 = des_ecb(y, enc, k, enc, 'd')\n",
        "print(y, x2, x == x2, sep='\\n')"
      ],
      "execution_count": 80,
      "outputs": [
        {
          "output_type": "stream",
          "name": "stdout",
          "text": [
            "c0b7a8d05f3a829cc0b7a8d05f3a829c\n",
            "123456abcd132536123456abcd132536\n",
            "True\n"
          ]
        }
      ]
    },
    {
      "cell_type": "code",
      "metadata": {
        "colab": {
          "base_uri": "https://localhost:8080/"
        },
        "id": "yvXsrUS40pzJ",
        "outputId": "4ef1a0ec-1fc0-49ce-d54b-c165511b12e4"
      },
      "source": [
        "# Test\n",
        "enc = \"hex\"\n",
        "x = \"0123456789abcdef0123456789abcdef\"\n",
        "k1 = \"13579bdf13579bdf\"\n",
        "k2 = \"02468ace02468ace\"\n",
        "k3 = \"fedcba9876543210\"\n",
        "y = tdes_ecb(x, enc, k1, k2, k3, enc, 'e')\n",
        "x2 = tdes_ecb(y, enc, k1, k2, k3, enc, 'd')\n",
        "print(y, x2, x == x2, sep='\\n')"
      ],
      "execution_count": 81,
      "outputs": [
        {
          "output_type": "stream",
          "name": "stdout",
          "text": [
            "73d212637387a5db73d212637387a5db\n",
            "123456789abcdef0123456789abcdef\n",
            "False\n"
          ]
        }
      ]
    },
    {
      "cell_type": "markdown",
      "metadata": {
        "id": "AxdLDVLSgIdY"
      },
      "source": [
        "### Cipher Block Chaining mode\n",
        "\n",
        "Hay còn được gọi tắt là CBC."
      ]
    },
    {
      "cell_type": "code",
      "metadata": {
        "id": "ezE32tXgYR2f"
      },
      "source": [
        "def des_cbc_encrypt(text, text_enc, key, key_enc, iv, iv_enc):\n",
        "  key = to_bin(key, key_enc)\n",
        "  chk = check_input(mode, [text_enc, key_enc, iv_enc], [key, iv])\n",
        "  if chk != True:\n",
        "    return chk\n",
        "  # Add 0-trail and split to multiple 64-bit blocks\n",
        "  text_blocks = split_block(add_trailing_zero(to_bin(text, text_enc)))\n",
        "  key = to_bin(key, key_enc)\n",
        "  iv = to_bin(key, iv_enc)\n",
        "  if len(key) != 64 or len(iv) != 64:\n",
        "    return \"Your Key or Initialisation Vector is not 64-bit.\"\n",
        "  text = add_trailing_zero()\n"
      ],
      "execution_count": null,
      "outputs": []
    },
    {
      "cell_type": "markdown",
      "metadata": {
        "id": "aYldq1EPRsEB"
      },
      "source": [
        "# Demo"
      ]
    },
    {
      "cell_type": "markdown",
      "metadata": {
        "id": "VWDLgJGNT1S2"
      },
      "source": [
        "## DES\n",
        "\n",
        "Nhập lời nhắn `msg` cần mã hoá và khoá `key`."
      ]
    },
    {
      "cell_type": "code",
      "metadata": {
        "id": "xXWf4aWFRonc"
      },
      "source": [
        "msg = \"123456abcd132536\"\n",
        "key = \"aabb09182736ccdd\""
      ],
      "execution_count": null,
      "outputs": []
    },
    {
      "cell_type": "markdown",
      "metadata": {
        "id": "huN2pecNSDfj"
      },
      "source": [
        "Chạy hàm mã hoá:"
      ]
    },
    {
      "cell_type": "code",
      "metadata": {
        "id": "f0-3klQMSGJB"
      },
      "source": [
        "print(encrypt(msg, key, \"hex\"))"
      ],
      "execution_count": null,
      "outputs": []
    },
    {
      "cell_type": "markdown",
      "metadata": {
        "id": "TXzS9gNMSUx8"
      },
      "source": [
        "Giải mã ngược lại:"
      ]
    },
    {
      "cell_type": "code",
      "metadata": {
        "id": "PLpWpkj2SYt9"
      },
      "source": [
        "cipher = \"c0b7a8d05f3a829c\"\n",
        "key = \"aabb09182736ccdd\"\n",
        "print(decrypt(cipher, key, \"hex\"))"
      ],
      "execution_count": null,
      "outputs": []
    },
    {
      "cell_type": "markdown",
      "metadata": {
        "id": "itfb8rFsSlrK"
      },
      "source": [
        "## 3DES\n",
        "Nhập lời nhắn `msg2` và 3 khoá `key1`, `key2`, `key3`.  \n",
        "`key1` không được trùng `key2`, `key2` không được trùng `key3`, `key1` có thể trùng `key3`.  \n",
        "Do 2 key liền kề trùng nhau sẽ tự triệt tiêu, thuật toán sẽ chỉ giống DES, nhưng vẫn mất thời gian tính toán như 3DES."
      ]
    },
    {
      "cell_type": "code",
      "metadata": {
        "id": "80OLKBRiSlSd"
      },
      "source": [
        "msg2 = \"Thu nghiem thuat toan 3DES\"\n",
        "key1 = \"hello\"\n",
        "key2 = \"goodbye\"\n",
        "key3 = \"abc\""
      ],
      "execution_count": null,
      "outputs": []
    },
    {
      "cell_type": "markdown",
      "metadata": {
        "id": "X1vcu4zjS6Xe"
      },
      "source": [
        "Mã hoá 3DES:"
      ]
    },
    {
      "cell_type": "code",
      "metadata": {
        "id": "FQofvrsbS9Ld"
      },
      "source": [
        "cipher2 = encrypt(decrypt(encrypt(msg2,key1,\"utf8\"),key2,\"utf8\"),key3,\"utf8\")\n",
        "print(cipher2)"
      ],
      "execution_count": null,
      "outputs": []
    },
    {
      "cell_type": "markdown",
      "metadata": {
        "id": "OHp2K2gFTcYz"
      },
      "source": [
        "Giải mã 3DES:"
      ]
    },
    {
      "cell_type": "code",
      "metadata": {
        "id": "8Lv6kuerTed_"
      },
      "source": [
        "text2 = decrypt(encrypt(decrypt(cipher2,key3),key2),key1)\n",
        "print(text2)"
      ],
      "execution_count": null,
      "outputs": []
    }
  ]
}