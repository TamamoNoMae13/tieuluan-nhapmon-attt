{
  "nbformat": 4,
  "nbformat_minor": 0,
  "metadata": {
    "colab": {
      "name": "Tiểu luận ATTT nhóm 2.ipynb",
      "provenance": [],
      "collapsed_sections": [],
      "authorship_tag": "ABX9TyM6YvnW4fVxwAxyap18N4Ey",
      "include_colab_link": true
    },
    "kernelspec": {
      "name": "python3",
      "display_name": "Python 3"
    },
    "language_info": {
      "name": "python"
    }
  },
  "cells": [
    {
      "cell_type": "markdown",
      "metadata": {
        "id": "view-in-github",
        "colab_type": "text"
      },
      "source": [
        "<a href=\"https://colab.research.google.com/github/TamamoNoMae13/tieuluan-nhapmon-attt/blob/main/Ti%E1%BB%83u_lu%E1%BA%ADn_ATTT_nh%C3%B3m_2.ipynb\" target=\"_parent\"><img src=\"https://colab.research.google.com/assets/colab-badge.svg\" alt=\"Open In Colab\"/></a>"
      ]
    },
    {
      "cell_type": "markdown",
      "metadata": {
        "id": "pax6GkYdBnCH"
      },
      "source": [
        "# Tiểu luận nhóm 2\n",
        "\n",
        "**TRƯỜNG ĐẠI HỌC CÔNG NGHỆ - ĐẠI HỌC QUỐC GIA HÀ NỘI**\n",
        "\n",
        "![logo UET](https://media.discordapp.net/attachments/516565469713399808/912210571414372382/uet-transparency.png?width=283&height=285)\n",
        "\n",
        "## Đề tài: Lập trình hệ mật DES và 3DES\n",
        "\n",
        "**Môn:** Nhập môn An toàn thông tin\n",
        "\n",
        "**Lớp học phần:** INT3213 1\n",
        "\n",
        "**Giảng viên:** Lê Phê Đô"
      ]
    },
    {
      "cell_type": "markdown",
      "metadata": {
        "id": "KfoX6y2yUNuV"
      },
      "source": [
        "# Thành viên nhóm\n",
        "\n",
        "| Mã sinh viên | Họ và tên |\n",
        "| :-: | :- |\n",
        "| 18020583 | Nguyễn Mạnh Hùng |\n",
        "| 18020675 | Trần Trọng Nguyễn Khang |\n",
        "| 18021412 | Vũ Tố Uyên |"
      ]
    },
    {
      "cell_type": "markdown",
      "metadata": {
        "id": "1AnSbDtoTvVQ"
      },
      "source": [
        "# Cam kết\n",
        "\n",
        "Mọi nội dung trong báo cáo dưới đây đều được tự viết bởi thành viên nhóm em, không qua sao chép trực tiếp từ bất cứ nguồn nào.\n",
        "\n",
        "Những đoạn tham khảo đều có trích đường dẫn tới trang nguồn đầy đủ.\n",
        "\n",
        "Nếu có phát hiện sao chép, bọn em xin chịu hoàn toàn trách nhiệm"
      ]
    },
    {
      "cell_type": "markdown",
      "metadata": {
        "id": "aNVI4qVHW9Ky"
      },
      "source": [
        "<!---\n",
        "  guide: https://www.w3schools.io/file/markdown-cheatsheet/\n",
        "  chuẩn hoá:\n",
        "    - 2 space + enter = xuống dòng\n",
        "    - 2 enter = div/paragraph mới\n",
        "--->\n",
        "\n",
        "# Data Encryption Standard\n",
        "\n",
        "*Chi tiết: [Data Encryption Standard](https://en.wikipedia.org/wiki/Triple_DES)*"
      ]
    },
    {
      "cell_type": "markdown",
      "metadata": {
        "id": "1wsrn-TmmA-F"
      },
      "source": [
        "## Giải thích thuật toán\n",
        "\n",
        "Đây là thuật toán mã hoá 1 đoạn tin 64-bit, sử dụng 1 khoá 64-bit.\n",
        "\n",
        "Độ phức tạp khi bị tấn công là $2^{56}$, do thực tế đoạn khoá 64-bit sẽ được biến đổi còn 56-bit, và khoá 56-bit này mới được đem vào sử dụng khi mã hoá.\n",
        "\n",
        "Thuật toán biến đổi trật tự đoạn bit gốc, tiếp đến là mã hoá với Feistel cipher 16 lần liên tiếp, với mỗi lần sử dụng 1 khoá khác nhau (được tính toán từ khoá 56-bit nhắc đến ở trên), sau đó được biến đổi lại trật tự và cho ra đoạn mã 64-bit.\n",
        "\n",
        "![image.png](data:image/png;base64,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)"
      ]
    },
    {
      "cell_type": "markdown",
      "metadata": {
        "id": "8Zd12EzuOMpJ"
      },
      "source": [
        "### Xử lý khoá:\n",
        "\n",
        "Đoạn khoá 64-bit sẽ được biến đổi trật tự theo bảng **Parity-bit Drop** còn 56-bit:\n",
        "\n",
        "| | | | | | | |\n",
        "| :-: | :-: | :-: | :-: | :-: | :-: | :-: |\n",
        "| 57 | 49 | 41 | 33 | 25 | 17 | 9 |\n",
        "| 1 | 58 | 50 | 42 | 34 | 26 | 18 |\n",
        "| 10 | 2 | 59 | 51 | 43 | 35 | 27 |\n",
        "| 19 | 11 | 3 | 60 | 52 | 44 | 36 |\n",
        "\n",
        "| | | | | | | |\n",
        "| :-: | :-: | :-: | :-: | :-: | :-: | :-: |\n",
        "| 63 | 55 | 47 | 39 | 31 | 23 | 15 |\n",
        "| 7 | 62 | 54 | 46 | 38 | 30 | 22 |\n",
        "| 14 | 6 | 61 | 53 | 45 | 37 | 29 |\n",
        "| 21 | 13 | 5 | 28 | 20 | 12 | 4 |\n",
        "\n",
        "Chúng sẽ được tách thành làm đôi, 2 nửa $C$ và $D$ mỗi phần 28-bit.\n",
        "\n",
        "Tiếp đến, ta sẽ cùng dịch trái 1 hoặc 2 bit $C$ và $D$, tuỳ vào việc vào thời điểm đó là vòng Feistel cipher thứ mấy.\n",
        "\n",
        "| Vòng | 1 | 2 | 3 | 4 | 5 | 6 | 7 | 8 | 9 | 10 | 11 | 12 | 13 | 14 | 15 | 16 |\n",
        "| :-: | :-: | :-: | :-: | :-: | :-: | :-: | :-: | :-: | :-: | :-: | :-: | :-: | :-: | :-: | :-: | :-: |\n",
        "| Số bit dịch trái | 1 | 1 | 2 | 2 | 2 | 2 | 2 | 2 | 1 | 2 | 2 | 2 | 2 | 2 | 2 | 1 |\n",
        "\n",
        "Sau khi dịch bit xong thì gộp $C$ và $D$ lại (56-bit), tiếp tục biến đổi trật tự theo bảng **Key-compression D-box** về 48-bit:\n",
        "\n",
        "| | | | | | | | |\n",
        "| :-: | :-: | :-: | :-: | :-: | :-: | :-: | :-: |\n",
        "| 14 | 17 | 11 | 24 | 1 | 5 | 3 | 28 |\n",
        "| 15 | 6 | 21 | 10 | 23 | 19 | 12 | 4 |\n",
        "| 26 | 8 | 16 | 7 | 27 | 20 | 13 | 2 |\n",
        "| 41 | 52 | 31 | 37 | 47 | 55 | 30 | 40 |\n",
        "| 51 | 45 | 33 | 48 | 44 | 49 | 39 | 56 |\n",
        "| 34 | 53 | 46 | 42 | 50 | 36 | 29 | 32 |\n",
        "\n",
        "Xong bước trên, ta đã có $K_0$ một trong 16 khoá phụ để mã hoá DES.\n",
        "\n",
        "Quay lại 2 nửa $C$ và $D$, ta tiếp tục dịch trái bit, gộp lại, biến đổi $PC2$. Lặp lại như vậy 15 lần nữa, ta sẽ có 16 khoá phụ $\\left(K_0, K_1, ..., K_{15}\\right)$ 48-bit riêng biệt để sử dụng vào 16 lần Feistel cipher."
      ]
    },
    {
      "cell_type": "markdown",
      "metadata": {
        "id": "m2cm8oLgl6GN"
      },
      "source": [
        "### Mã hoá tin\n",
        "\n",
        "Đầu tiên, ta biến đổi trật tự bit của đoạn tin theo bảng **Initial Permutation** dưới đây:\n",
        "\n",
        "| | | | | | | | |\n",
        "| :-: | :-: | :-: | :-: | :-: | :-: | :-: | :-: |\n",
        "| 58 | 50 | 42 | 34 | 26 | 18 | 10 | 2 |\n",
        "| 60 | 52 | 44 | 36 | 28 | 20 | 12 | 4 |\n",
        "| 62 | 54 | 46 | 38 | 30 | 22 | 14 | 6 |\n",
        "| 64 | 56 | 48 | 40 | 32 | 24 | 16 | 8 |\n",
        "\n",
        "| | | | | | | | |\n",
        "| :-: | :-: | :-: | :-: | :-: | :-: | :-: | :-: |\n",
        "| 57 | 49 | 41 | 33 | 25 | 17 | 9 | 1 |\n",
        "| 59 | 51 | 43 | 35 | 27 | 19 | 11 | 3 |\n",
        "| 61 | 53 | 45 | 37 | 29 | 21 | 13 | 5 |\n",
        "| 63 | 55 | 47 | 39 | 31 | 23 | 15 | 7 |\n",
        "\n",
        "Ta bắt đầu thuật toán Feistel cipher từ đây. Với hàm $F$ là mã hoá DES.  \n",
        "*Chi tiết: [Feistel cipher](https://en.wikipedia.org/wiki/Feistel_cipher)*\n",
        "\n",
        "![diagram](https://upload.wikimedia.org/wikipedia/commons/thumb/f/fa/Feistel_cipher_diagram_en.svg/328px-Feistel_cipher_diagram_en.svg.png)\n",
        "\n",
        "Việc đầu tiên, ta chia đoạn bit vừa được biến đổi làm 2 nửa, gọi là $L_0$ và $R_0$ (mỗi nửa 32-bit).\n",
        "\n",
        "Sơ đồ hàm DES:  \n",
        "![DES Function](https://imgur.com/pHzVwRl.png)\n",
        "\n",
        "Các bước thực hiện hàm $F$:\n",
        "\n",
        "1. Ta đem $R_i$ mở rộng lên 48-bit thông qua **Expansion Permutation**:\n",
        "  ![exp_d](https://imgur.com/Xr2iT5I.png)\n",
        "2. Với đoạn $R_i$ 48-bit hiện tại, ta cộng XOR với khoá phụ tương ứng cho ra một đoạn nhị phân 48-bit mới:  \n",
        "$$\\left(R_i \\oplus K_i \\right)$$\n",
        "3. Tách đoạn 48-bit vừa tạo thành 8 block 6-bit, tra cứu 8 [S-box](https://en.wikipedia.org/wiki/S-box) để thu gọn mỗi block về 4-bit, rồi gộp lại thành đoạn 32-bit.  \n",
        "  ![S-Box](https://imgur.com/kipSeFL.png)  \n",
        "  **Cách tra cứu:** lấy 2 ký tự đầu và cuối của block 6-bit làm giá trị cột, 4 ký tự giữa làm giá trị hàng, tra cứu S-box tương ứng với block hiện tại (ví dụ: block thứ nhất sẽ tra $S_1$, block 8 sẽ tra $S_8$).  \n",
        "  ![check s-box](https://imgur.com/piVBSO4.png)\n",
        "4. Với đoạn nhị phân 32-bit thu được, ta biến đổi trật tự theo bảng **Straight Permutation**:\n",
        "\n",
        "| | | | | | | | |\n",
        "| :-: | :-: | :-: | :-: | :-: | :-: | :-: | :-: |\n",
        "| 16 | 7 | 20 | 21 | 29 | 12 | 28 | 17 |\n",
        "| 1 | 15 | 23 | 26 | 5 | 18 | 31 | 10 |\n",
        "| 2 | 8 | 24 | 14 | 32 | 27 | 3 | 9 |\n",
        "| 19 | 13 | 30 | 6 | 22 | 11 | 4 | 25 |\n",
        "\n",
        "5. Đoạn nhị phân 32-bit thu được ở trên $\\left(R_{0}^{'}\\right)$ sẽ được cộng XOR với nửa trái:  \n",
        "$$ R_{i}^{'} \\oplus L_i $$  \n",
        "Kết quả trên sẽ được lấy làm nửa phải mới $R_{i+1}$, còn nửa phải cũ $R_{i}$ sẽ trở thành nửa trái mới $L_{i+1}$.\n",
        "\n",
        "Thuật toán Feistel sẽ được chạy 16 lần, với mỗi lần DES có khoá khác nhau.  \n",
        "Bước cuối, ta hoán đổi vị trí $L_{15}$ và $R_{15}$, có đoạn mã 64-bit mới.\n",
        "\n",
        "Với đoạn mã trên, ta biến đổi với bảng Final Permutation (là bảng nghịch đảo của Initial Permutation):\n",
        "\n",
        "| | | | | | | | |\n",
        "| :-: | :-: | :-: | :-: | :-: | :-: | :-: | :-: |\n",
        "| 40 | 8 | 48 | 16 | 56 | 24 | 64 | 32 |\n",
        "| 39 | 7 | 47 | 15 | 55 | 23 | 63 | 31 |\n",
        "| 38 | 6 | 46 | 14 | 54 | 22 | 62 | 30 |\n",
        "| 37 | 5 | 45 | 13 | 53 | 21 | 61 | 29 |\n",
        "| 36 | 4 | 44 | 12 | 52 | 20 | 60 | 28 |\n",
        "| 35 | 3 | 43 | 11 | 51 | 19 | 59 | 27 |\n",
        "| 34 | 2 | 42 | 10 | 50 | 18 | 58 | 26 |\n",
        "| 33 | 1 | 41 | 9 | 49 | 17 | 57 | 25 |\n",
        "\n",
        "Đoạn mã 64-bit trên chính là đoạn mã được mã hoá từ bản tin gốc với thuật toán DES.\n",
        "\n",
        "Về bản chất, thuật toán DES chỉ là hàm $F$ trong sơ đồ Feistel cipher. Tuy nhiên, quy trình mã hoá với DES bao gồm:\n",
        "- Tạo 16 khoá phụ (từ khoá gốc).\n",
        "- Biến đổi trật tự tin.\n",
        "- Sử dụng thuật toán Feistel 16 lần, kết hợp với DES, mỗi lần một khoá phụ khác nhau.\n",
        "- Biến đổi lại trật tự và cho ra bản mã."
      ]
    },
    {
      "cell_type": "markdown",
      "metadata": {
        "id": "ZXxTnyYrVbvJ"
      },
      "source": [
        "### Cách giải mã\n",
        "\n",
        "Thực hiện các bước y hệt như khi mã hoá. Tuy nhiên, thứ tự khoá phụ sử dụng sẽ ngược lại."
      ]
    },
    {
      "cell_type": "markdown",
      "metadata": {
        "id": "nyMYvNfF_NVg"
      },
      "source": [
        "## Triple DES (TDES, 3DES)\n",
        "\n",
        "*Nguồn: [Triple DES](https://en.wikipedia.org/wiki/Triple_DES)*\n",
        "\n",
        "Được biết đến là hệ cải tiến của DES, bằng cách sử dụng quy trình DES 3 lần với 3 khoá riêng biệt.\n",
        "\n",
        "Cách mã hoá 3DES:  \n",
        "$$ \\text{ciphertext} = E_{K3}\\left(D_{K2}\\left(E_{K1}\\left(\\text{plaintext}\\right)\\right)\\right) $$\n",
        "\n",
        "Cách gỉải mã 3DES:  \n",
        "$$ \\text{plaintext} = D_{K1}\\left(E_{K2}\\left(D_{K3}\\left(\\text{ciphertext}\\right)\\right)\\right) $$\n",
        "\n",
        "Với tính chất như trên, cặp $\\left(K_1, K_2\\right)$ và $\\left(K_2, K_3\\right)$ không được trùng nhau, do chúng sẽ triệt tiêu, và nó không khác gì DES (nhưng vẫn tốn hiệu năng gấp 3 lần).\n",
        "\n",
        "Mặc dù sử dụng 3 khoá (tổng 192-bit), nhưng do DES lược bỏ 64-bit còn 56-bit, độ phức tạp khi bị tấn công vẫn không đạt $2^{3 \\times 56} = 2^{168}$ mà chỉ là $2^{112}$, do bị ảnh hưởng bởi [tấn công Meet-in-the-middle](https://en.wikipedia.org/wiki/Meet-in-the-middle_attack)."
      ]
    },
    {
      "cell_type": "markdown",
      "metadata": {
        "id": "GcCvtChOGxqV"
      },
      "source": [
        "# Tự thiết kế nhân DES (bằng `python3`):\n"
      ]
    },
    {
      "cell_type": "markdown",
      "metadata": {
        "id": "hXjhDcYtQAcQ"
      },
      "source": [
        "## Một số ma trận biến đổi mẫu\n",
        "\n",
        "Tất cả đều tính theo hệ đếm bắt đầu từ 1."
      ]
    },
    {
      "cell_type": "code",
      "metadata": {
        "id": "gW1m5Tk18OU0"
      },
      "source": [
        "# Parity-bit Drop\n",
        "PC1 = [57, 49, 41, 33, 25, 17, 9, 1,\n",
        "       58, 50, 42, 34, 26, 18, 10, 2,\n",
        "       59, 51, 43, 35, 27, 19, 11, 3,\n",
        "       60, 52, 44, 36, 63, 55, 47, 39,\n",
        "       31, 23, 15, 7, 62, 54, 46, 38,\n",
        "       30, 22, 14, 6, 61, 53, 45, 37,\n",
        "       29, 21, 13, 5, 28, 20, 12, 4]\n",
        "\n",
        "# Number of bit(s) get left-shift (base on current round)\n",
        "SHIFT_TABLE = [1, 1, 2, 2, 2, 2, 2, 2,\n",
        "               1, 2, 2, 2, 2, 2, 2, 1]\n",
        "\n",
        "# Key-compression D-box\n",
        "PC2 = [14, 17, 11, 24, 1, 5, 3, 28,\n",
        "       15, 6, 21, 10, 23, 19, 12, 4,\n",
        "       26, 8, 16, 7, 27, 20, 13, 2,\n",
        "       41, 52, 31, 37, 47, 55, 30, 40,\n",
        "       51, 45, 33, 48, 44, 49, 39, 56,\n",
        "       34, 53, 46, 42, 50, 36, 29, 32]\n",
        "\n",
        "# Initial permutation\n",
        "IP = [58, 50, 42, 34, 26, 18, 10, 2,\n",
        "      60, 52, 44, 36, 28, 20, 12, 4,\n",
        "      62, 54, 46, 38, 30, 22, 14, 6,\n",
        "      64, 56, 48, 40, 32, 24, 16, 8,\n",
        "      57, 49, 41, 33, 25, 17, 9, 1,\n",
        "      59, 51, 43, 35, 27, 19, 11, 3,\n",
        "      61, 53, 45, 37, 29, 21, 13, 5,\n",
        "      63, 55, 47, 39, 31, 23, 15, 7]\n",
        "\n",
        "# Expansion D-Box\n",
        "EXP_D = [32, 1, 2, 3, 4, 5,\n",
        "         4, 5, 6, 7, 8, 9,\n",
        "         8, 9, 10, 11, 12, 13,\n",
        "         12, 13, 14, 15, 16, 17,\n",
        "         16, 17, 18, 19, 20, 21,\n",
        "         20, 21, 22, 23, 24, 25,\n",
        "         24, 25, 26, 27, 28, 29,\n",
        "         28, 29, 30, 31, 32, 1]\n",
        "\n",
        "# S-box\n",
        "S_BOX = [[[14, 4, 13, 1, 2, 15, 11, 8, 3, 10, 6, 12, 5, 9, 0, 7],\n",
        "          [0, 15, 7, 4, 14, 2, 13, 1, 10, 6, 12, 11, 9, 5, 3, 8],\n",
        "          [4, 1, 14, 8, 13, 6, 2, 11, 15, 12, 9, 7, 3, 10, 5, 0],\n",
        "          [15, 12, 8, 2, 4, 9, 1, 7, 5, 11, 3, 14, 10, 0, 6, 13]],\n",
        "\n",
        "         [[15, 1, 8, 14, 6, 11, 3, 4, 9, 7, 2, 13, 12, 0, 5, 10],\n",
        "          [3, 13, 4, 7, 15, 2, 8, 14, 12, 0, 1, 10, 6, 9, 11, 5],\n",
        "          [0, 14, 7, 11, 10, 4, 13, 1, 5, 8, 12, 6, 9, 3, 2, 15],\n",
        "          [13, 8, 10, 1, 3, 15, 4, 2, 11, 6, 7, 12, 0, 5, 14, 9]],\n",
        "\n",
        "         [[10, 0, 9, 14, 6, 3, 15, 5, 1, 13, 12, 7, 11, 4, 2, 8],\n",
        "          [13, 7, 0, 9, 3, 4, 6, 10, 2, 8, 5, 14, 12, 11, 15, 1],\n",
        "          [13, 6, 4, 9, 8, 15, 3, 0, 11, 1, 2, 12, 5, 10, 14, 7],\n",
        "          [1, 10, 13, 0, 6, 9, 8, 7, 4, 15, 14, 3, 11, 5, 2, 12]],\n",
        "\n",
        "         [[7, 13, 14, 3, 0, 6, 9, 10, 1, 2, 8, 5, 11, 12, 4, 15],\n",
        "          [13, 8, 11, 5, 6, 15, 0, 3, 4, 7, 2, 12, 1, 10, 14, 9],\n",
        "          [10, 6, 9, 0, 12, 11, 7, 13, 15, 1, 3, 14, 5, 2, 8, 4],\n",
        "          [3, 15, 0, 6, 10, 1, 13, 8, 9, 4, 5, 11, 12, 7, 2, 14]],\n",
        "\n",
        "         [[2, 12, 4, 1, 7, 10, 11, 6, 8, 5, 3, 15, 13, 0, 14, 9],\n",
        "          [14, 11, 2, 12, 4, 7, 13, 1, 5, 0, 15, 10, 3, 9, 8, 6],\n",
        "          [4, 2, 1, 11, 10, 13, 7, 8, 15, 9, 12, 5, 6, 3, 0, 14],\n",
        "          [11, 8, 12, 7, 1, 14, 2, 13, 6, 15, 0, 9, 10, 4, 5, 3]],\n",
        "\n",
        "         [[12, 1, 10, 15, 9, 2, 6, 8, 0, 13, 3, 4, 14, 7, 5, 11],\n",
        "          [10, 15, 4, 2, 7, 12, 9, 5, 6, 1, 13, 14, 0, 11, 3, 8],\n",
        "          [9, 14, 15, 5, 2, 8, 12, 3, 7, 0, 4, 10, 1, 13, 11, 6],\n",
        "          [4, 3, 2, 12, 9, 5, 15, 10, 11, 14, 1, 7, 6, 0, 8, 13]],\n",
        "\n",
        "         [[4, 11, 2, 14, 15, 0, 8, 13, 3, 12, 9, 7, 5, 10, 6, 1],\n",
        "          [13, 0, 11, 7, 4, 9, 1, 10, 14, 3, 5, 12, 2, 15, 8, 6],\n",
        "          [1, 4, 11, 13, 12, 3, 7, 14, 10, 15, 6, 8, 0, 5, 9, 2],\n",
        "          [6, 11, 13, 8, 1, 4, 10, 7, 9, 5, 0, 15, 14, 2, 3, 12]],\n",
        "\n",
        "         [[13, 2, 8, 4, 6, 15, 11, 1, 10, 9, 3, 14, 5, 0, 12, 7],\n",
        "          [1, 15, 13, 8, 10, 3, 7, 4, 12, 5, 6, 11, 0, 14, 9, 2],\n",
        "          [7, 11, 4, 1, 9, 12, 14, 2, 0, 6, 10, 13, 15, 3, 5, 8],\n",
        "          [2, 1, 14, 7, 4, 10, 8, 13, 15, 12, 9, 0, 3, 5, 6, 11]]]\n",
        "\n",
        "# Straight Permutation\n",
        "D_BOX = [16, 7, 20, 21, 29, 12, 28, 17,\n",
        "         1, 15, 23, 26, 5, 18, 31, 10,\n",
        "         2, 8, 24, 14, 32, 27, 3, 9,\n",
        "         19, 13, 30, 6, 22, 11, 4, 25]\n",
        "\n",
        "# Final Permutation\n",
        "IP1 = [40, 8, 48, 16, 56, 24, 64, 32,\n",
        "       39, 7, 47, 15, 55, 23, 63, 31,\n",
        "       38, 6, 46, 14, 54, 22, 62, 30,\n",
        "       37, 5, 45, 13, 53, 21, 61, 29,\n",
        "       36, 4, 44, 12, 52, 20, 60, 28,\n",
        "       35, 3, 43, 11, 51, 19, 59, 27,\n",
        "       34, 2, 42, 10, 50, 18, 58, 26,\n",
        "       33, 1, 41, 9, 49, 17, 57, 25]"
      ],
      "execution_count": 1,
      "outputs": []
    },
    {
      "cell_type": "markdown",
      "metadata": {
        "id": "UuHmS5BOia8e"
      },
      "source": [
        "## Các hàm hỗ trợ việc mã hoá"
      ]
    },
    {
      "cell_type": "markdown",
      "metadata": {
        "id": "L9juAfm5cvTM"
      },
      "source": [
        "### Hàm biến đổi trật tự theo ma trận"
      ]
    },
    {
      "cell_type": "code",
      "metadata": {
        "id": "Upm5MUYscyEP"
      },
      "source": [
        "def permute(input, matrix):\n",
        "  output = \"\"\n",
        "  for x in matrix:\n",
        "    output += input[x-1]\n",
        "  return output"
      ],
      "execution_count": 2,
      "outputs": []
    },
    {
      "cell_type": "code",
      "metadata": {
        "id": "l-2uiRTs2573",
        "colab": {
          "base_uri": "https://localhost:8080/"
        },
        "outputId": "39cc9abd-ae9e-4b00-bdf3-402dc973a967"
      },
      "source": [
        "# Vì mục đích minh hoạ biến đổi dễ thấy hơn, ví dụ sẽ không dùng hệ nhị phân\n",
        "print(\n",
        "  permute(\"1234567890123456789012345678901234567890123456789012345678901234\", \\\n",
        "          PC1))  # 64 to 56\n",
        "# 56 to 48\n",
        "print(permute(\"12345678901234567890123456789012345678901234567890123456\", PC2))\n",
        "print(\n",
        "  permute(\"1234567890123456789012345678901234567890123456789012345678901234\", \\\n",
        "          IP))  # 64 to 64\n",
        "print(permute(\"12345678901234567890123456789012\", EXP_D))  # 32 to 48\n",
        "print(permute(\"12345678901234567890123456789012\", D_BOX))  # 32 to 32\n",
        "print(\n",
        "  permute(\"1234567890123456789012345678901234567890123456789012345678901234\", \\\n",
        "          IP1))  # 64 to 64"
      ],
      "execution_count": 3,
      "outputs": [
        {
          "output_type": "stream",
          "name": "stdout",
          "text": [
            "79135791802468029135791302463579135724680246135791358024\n",
            "471415385610392468677032121775001538499643620692\n",
            "8024680202468024246802464680246879135791913579131357913535791357\n",
            "212345456789890123234567678901012345456789890121\n",
            "67019287153658102844273993062145\n",
            "0886644297755331866442207553311964422008533119974220088631199775\n"
          ]
        }
      ]
    },
    {
      "cell_type": "markdown",
      "metadata": {
        "id": "RpvqR-8ZtupZ"
      },
      "source": [
        "### Hàm dịch trái bit và hàm tạo 16 sub-keys 48-bit từ key 64-bit"
      ]
    },
    {
      "cell_type": "code",
      "metadata": {
        "id": "htCwGCYBtuFb"
      },
      "source": [
        "def left_shift(s, k):  # shift left k times\n",
        "  return s[k:len(s)] + s[0:k]\n",
        "\n",
        "def gen_subkeys(key):\n",
        "  # 64-bit key ----PC1----> 56-bit ----> 2 halves (28-bit each)\n",
        "  k_c = permute(key, PC1[0:28])\n",
        "  k_d = permute(key, PC1[28:56])\n",
        "  # Generate subkeys\n",
        "  sub_keys = []\n",
        "  for i in range(16):\n",
        "    # Left shift i-bit, base on current round\n",
        "    k_c = left_shift(k_c, SHIFT_TABLE[i])\n",
        "    k_d = left_shift(k_d, SHIFT_TABLE[i])\n",
        "    # Join 2 halves ----PC2----> 48-bit, add to List\n",
        "    sub_keys.append(permute(k_c + k_d, PC2))\n",
        "  return sub_keys"
      ],
      "execution_count": 4,
      "outputs": []
    },
    {
      "cell_type": "code",
      "metadata": {
        "id": "dXmGYjYYhwp2",
        "colab": {
          "base_uri": "https://localhost:8080/"
        },
        "outputId": "021948e2-3299-4be3-b023-dc37d7cac855"
      },
      "source": [
        "# Vì mục đích minh hoạ biến đổi dễ thấy hơn, ví dụ sẽ không dùng hệ nhị phân\n",
        "test_str0 = left_shift(\"1234567890123456789012345678\", 1)\n",
        "print(test_str0, left_shift(test_str0, 2), sep='\\n')\n",
        "gen_subkeys(\"1234567890123456789012345678901234567890123456789012345678901234\")"
      ],
      "execution_count": 5,
      "outputs": [
        {
          "output_type": "stream",
          "name": "stdout",
          "text": [
            "2345678901234567890123456781\n",
            "4567890123456789012345678123\n"
          ]
        },
        {
          "output_type": "execute_result",
          "data": {
            "text/plain": [
              "['014097372992356548916781289474705339118350543251',\n",
              " '236219599114078760187903401693928551330572765473',\n",
              " '170658933008412194521397145037362925784943130817',\n",
              " '519992877442701038965231552481733360121387574254',\n",
              " '903386211871145472309670996125477804535721015628',\n",
              " '347720600215579811298914330532811245079465459362',\n",
              " '271169044159913205632308874976255319413832503706',\n",
              " '610003987593852149976742241310602753558276947143',\n",
              " '732225109710074361198969463532124975770498132365',\n",
              " '176619593104417700532893507076538312144132576839',\n",
              " '519053937047801194921237941443972756585586210273',\n",
              " '903992371481245037865671315587316400229923654318',\n",
              " '847336210725189471299010750921853844663337021752',\n",
              " '281729604119528715633904494365227251037871465103',\n",
              " '620163948558912109072347835730361695474215109547',\n",
              " '892375160770134321294569057252583117696438321739']"
            ]
          },
          "metadata": {},
          "execution_count": 5
        }
      ]
    },
    {
      "cell_type": "markdown",
      "metadata": {
        "id": "iH9K5WDaA4T8"
      },
      "source": [
        "### Hàm thu gọn 48-bit còn 32-bit thông qua S-box"
      ]
    },
    {
      "cell_type": "code",
      "metadata": {
        "id": "zKczC9LPA-OT"
      },
      "source": [
        "def dec_to_bin(dec_num):  # decimal to 4-bit binary\n",
        "  output = \"\"\n",
        "  for i in reversed(range(4)):\n",
        "    output = str(dec_num % 2) + output\n",
        "    dec_num //= 2\n",
        "  return output\n",
        "\n",
        "def s_boxes(input):\n",
        "  output = \"\"\n",
        "  for i in range(8):  # Go through 8 S-boxes\n",
        "    row = 2*int(input[(6*i)]) + int(input[(6*i+5)])  # 1st and 6th bit\n",
        "    # 2nd-5th bit\n",
        "    column = 8*int(input[(6*i+1)]) + 4*int(input[(6*i+2)]) + \\\n",
        "              2*int(input[(6*i+3)]) + int(input[(6*i+4)])\n",
        "    # Check value in S-box[i] & put 4-bit result from S-box to arrS\n",
        "    output += dec_to_bin(S_BOX[i][row][column])\n",
        "  return output"
      ],
      "execution_count": 6,
      "outputs": []
    },
    {
      "cell_type": "code",
      "metadata": {
        "id": "nZduQxPXhni9",
        "colab": {
          "base_uri": "https://localhost:8080/"
        },
        "outputId": "132dafbe-4bb0-4bd1-96b7-ff9cbb09b866"
      },
      "source": [
        "# Test\n",
        "print(dec_to_bin(8))\n",
        "print(s_boxes(\"111010010101111100100110010000100101010010101101\"))"
      ],
      "execution_count": 7,
      "outputs": [
        {
          "output_type": "stream",
          "name": "stdout",
          "text": [
            "1000\n",
            "10100001111000001000001011001000\n"
          ]
        }
      ]
    },
    {
      "cell_type": "markdown",
      "metadata": {
        "id": "mjeLDNGsHll0"
      },
      "source": [
        "### Hàm tính XOR 2 xâu nhị phân"
      ]
    },
    {
      "cell_type": "code",
      "metadata": {
        "id": "E8mDyVCBHrKK"
      },
      "source": [
        "def calc_xor(bin_str1, bin_str2):\n",
        "  output = \"\"\n",
        "  for i in range(len(bin_str1)):\n",
        "    output += str(int(bin_str1[i]) ^ int(bin_str2[i]))\n",
        "  return output"
      ],
      "execution_count": 8,
      "outputs": []
    },
    {
      "cell_type": "code",
      "metadata": {
        "id": "6RfvPHxDQwAj",
        "colab": {
          "base_uri": "https://localhost:8080/"
        },
        "outputId": "4e8d9c39-db95-47aa-823c-928cf21012ee"
      },
      "source": [
        "# Test\n",
        "test_str0 = \"0011\"\n",
        "test_str1 = \"0101\"\n",
        "print(\"   a    =\", test_str0)\n",
        "print(\"   b    =\", test_str1)\n",
        "print(\"a XOR b =\", calc_xor(test_str0, test_str1))"
      ],
      "execution_count": 9,
      "outputs": [
        {
          "output_type": "stream",
          "name": "stdout",
          "text": [
            "   a    = 0011\n",
            "   b    = 0101\n",
            "a XOR b = 0110\n"
          ]
        }
      ]
    },
    {
      "cell_type": "markdown",
      "metadata": {
        "id": "RJiJ1VwRYGqp"
      },
      "source": [
        "## Hàm mã hóa và giải mã DES (tin và khoá đều ở dạng 64-bit nhị phân)"
      ]
    },
    {
      "cell_type": "code",
      "metadata": {
        "id": "4H_bs9pXBl_s"
      },
      "source": [
        "def des_core(x, k, crypt):\n",
        "  # Encrypt: Use sub-keys in original order\n",
        "  # Decrypt: Reverse the order of sub-keys\n",
        "  ord = range(16)\n",
        "  if crypt == 'd':\n",
        "    ord = reversed(range(16))\n",
        "  # Get keys for 16 rounds of DES\n",
        "  sub_keys = gen_subkeys(k)\n",
        "  # Text ----IP----> 64-bit ----> 2 halves (32-bit each)\n",
        "  left_half = permute(x, IP[0:32])\n",
        "  right_half = permute(x, IP[32:64])\n",
        "  # Starting 16 rounds of Feistel cipher\n",
        "  for r in ord:\n",
        "    # Right-half (32-bit) ---expand---> 48-bit ---XOR with subkey---> 48-bit\n",
        "    # ---S_BOX---> 32-bit ---D_BOX---> 32-bit ---XOR with left-half--->\n",
        "    # New right-half (32-bit)\n",
        "    new_r_half = \\\n",
        "                calc_xor(\n",
        "                        left_half, \\\n",
        "                        permute(\n",
        "                                s_boxes(\n",
        "                                      calc_xor(\n",
        "                                                permute(right_half, EXP_D), \\\n",
        "                                                sub_keys[r])), \\\n",
        "                                D_BOX))\n",
        "    left_half = right_half  # New left-half <-- old right-half\n",
        "    right_half = new_r_half  # Assign new right-half\n",
        "  # Join 2 halves and permute with inverse IP\n",
        "  return permute(right_half + left_half, IP1)"
      ],
      "execution_count": 10,
      "outputs": []
    },
    {
      "cell_type": "code",
      "metadata": {
        "id": "A0pyDY9KKkVQ",
        "colab": {
          "base_uri": "https://localhost:8080/"
        },
        "outputId": "9943638c-da8d-44db-f9e3-e006f083a40e"
      },
      "source": [
        "# Test\n",
        "x = \"0001110010111100001011000000011011000100001110011101101011111010\"\n",
        "k = \"1011111010100001101111000011101101110000111000010110010001011110\"\n",
        "y = des_core(x, k, 'e')\n",
        "d_y = des_core(y, k, 'd')\n",
        "print(y, d_y, x == d_y, sep='\\n')"
      ],
      "execution_count": 11,
      "outputs": [
        {
          "output_type": "stream",
          "name": "stdout",
          "text": [
            "1100010111000000010010010100101010110000010011000101000111001101\n",
            "0001110010111100001011000000011011000100001110011101101011111010\n",
            "True\n"
          ]
        }
      ]
    },
    {
      "cell_type": "markdown",
      "metadata": {
        "id": "BvNbMdDvIWKb"
      },
      "source": [
        "# Thiết kế 3DES (tin và khoá đều ở dạng 64-bit nhị phân):"
      ]
    },
    {
      "cell_type": "code",
      "metadata": {
        "id": "2FiKitiz92nv"
      },
      "source": [
        "def tdes_core(msg, k1, k2, k3, crypt):\n",
        "  if crypt == 'e':\n",
        "    return des_core(des_core(des_core(msg, k1, \"e\"), k2, \"d\"), k3, \"e\")\n",
        "  return des_core(des_core(des_core(msg, k3, \"d\"), k2, \"e\"), k1, \"d\")"
      ],
      "execution_count": 12,
      "outputs": []
    },
    {
      "cell_type": "code",
      "metadata": {
        "id": "OhfAJNhlTnNq",
        "colab": {
          "base_uri": "https://localhost:8080/"
        },
        "outputId": "c0276d12-195c-477f-9364-2d827098b38b"
      },
      "source": [
        "# Test\n",
        "x = \"0011001100001110000110111100110000000001100100110010001010100110\"\n",
        "k1 = \"0111000000011000111011101010110101001100101111010011100100100011\"\n",
        "k2 = \"1110111110000110111111010000100110110110111111010001100110010010\"\n",
        "k3 = \"0001101010011111110110101000101011100011010100101100111101000101\"\n",
        "y = tdes_core(x, k1, k2, k3, 'e')\n",
        "d_y = tdes_core(y, k1, k2, k3, 'd')\n",
        "print(y, d_y, x == d_y, sep= '\\n')"
      ],
      "execution_count": 13,
      "outputs": [
        {
          "output_type": "stream",
          "name": "stdout",
          "text": [
            "0110010000001101101100110100001001100001101110110001011000000001\n",
            "0011001100001110000110111100110000000001100100110010001010100110\n",
            "True\n"
          ]
        }
      ]
    },
    {
      "cell_type": "markdown",
      "metadata": {
        "id": "rHqzFOC392_u"
      },
      "source": [
        "# Áp dụng mã hoá tin với DES, 3DES và giải mã"
      ]
    },
    {
      "cell_type": "markdown",
      "metadata": {
        "id": "lj-0sR00hj6G"
      },
      "source": [
        "## Các hàm hỗ trợ"
      ]
    },
    {
      "cell_type": "markdown",
      "metadata": {
        "id": "iDe5NEk4iZ6b"
      },
      "source": [
        "### Hàm chèn `0` vào cuối xâu\n",
        "\n",
        "Giúp đệm đoạn tin cần mã hoá đủ bit = bội của 64."
      ]
    },
    {
      "cell_type": "code",
      "metadata": {
        "id": "nDls38FY3vIh"
      },
      "source": [
        "def add_trailing_zero(s):\n",
        "  if len(s) % 64 != 0:\n",
        "    return s + '0' * (64 - len(s) % 64)\n",
        "  return s"
      ],
      "execution_count": 14,
      "outputs": []
    },
    {
      "cell_type": "code",
      "metadata": {
        "id": "dGKL1bjJeeHK",
        "colab": {
          "base_uri": "https://localhost:8080/"
        },
        "outputId": "4a7b2d06-cd13-4107-f76c-03c5c5af0ffc"
      },
      "source": [
        "# Test\n",
        "# length = 60\n",
        "test_str0 = \"012345678901234567890123456789012345678901234567890123456789\"\n",
        "test_str1 = add_trailing_zero(test_str0)\n",
        "print(test_str1, \"Length: \" + str(len(test_str1)), sep='\\n')"
      ],
      "execution_count": 15,
      "outputs": [
        {
          "output_type": "stream",
          "name": "stdout",
          "text": [
            "0123456789012345678901234567890123456789012345678901234567890000\n",
            "Length: 64\n"
          ]
        }
      ]
    },
    {
      "cell_type": "markdown",
      "metadata": {
        "id": "L93p26vbRnYj"
      },
      "source": [
        "### Hàm tách xâu dài thành mảng chứa các block 64 ký tự"
      ]
    },
    {
      "cell_type": "code",
      "metadata": {
        "id": "vtbqZi0qRm3L"
      },
      "source": [
        "def split_block(bin_str):  # input is a multiple-of-64 bit string\n",
        "  output = []\n",
        "  for i in range(len(bin_str) // 64):\n",
        "    output.append(bin_str[64*i:64*i+64])\n",
        "  return output"
      ],
      "execution_count": 16,
      "outputs": []
    },
    {
      "cell_type": "code",
      "metadata": {
        "id": "OV3X68iiZCw6",
        "colab": {
          "base_uri": "https://localhost:8080/"
        },
        "outputId": "78bd4166-a854-4de8-b266-67e348a72216"
      },
      "source": [
        "# Test\n",
        "split_block(test_str1 + test_str1 + test_str1)  # 192 chars"
      ],
      "execution_count": 17,
      "outputs": [
        {
          "output_type": "execute_result",
          "data": {
            "text/plain": [
              "['0123456789012345678901234567890123456789012345678901234567890000',\n",
              " '0123456789012345678901234567890123456789012345678901234567890000',\n",
              " '0123456789012345678901234567890123456789012345678901234567890000']"
            ]
          },
          "metadata": {},
          "execution_count": 17
        }
      ]
    },
    {
      "cell_type": "markdown",
      "metadata": {
        "id": "H2ERq5e33pUS"
      },
      "source": [
        "### Hàm kiểm tra input"
      ]
    },
    {
      "cell_type": "code",
      "metadata": {
        "id": "aZqt52Uh3pwV"
      },
      "source": [
        "CRYPT_MODE = ['e', 'd']\n",
        "SUPPORTED_MODE = [\"ecb\", \"cbc\", \"cfb\", \"ofb\", \"ctr\"]\n",
        "BIN_CHAR = ['0', '1']\n",
        "\n",
        "def check_before_crypt(crypt, mode, x, k_arr, iv):\n",
        "  if crypt not in CRYPT_MODE:\n",
        "    return \"Please specify if you want to \\'e\\'ncrypt or \\'d\\'ecrypt!\"\n",
        "  if mode not in SUPPORTED_MODE:\n",
        "    return \"Only \\\"ecb\\\", \\\"cbc\\\", \\\"cfb\\\", \\\"ofb\\\" modes are supported!\"\n",
        "  bin_str_arr = [x]\n",
        "  if mode != \"ecb\":\n",
        "    if iv == None: return \"This mode requires an IV.\"\n",
        "    else: \n",
        "      bin_str_arr += k_arr\n",
        "      bin_str_arr.append(iv)\n",
        "  else: bin_str_arr += k_arr\n",
        "  for i in range(len(bin_str_arr)):\n",
        "    for c in bin_str_arr[i]:\n",
        "      if c not in BIN_CHAR:\n",
        "        return \"Text, Key, or IV is not binary.\"\n",
        "    # Ignore 1st element (text) when checking 64-bit requirement\n",
        "    if i != 0 and len(bin_str_arr[i]) != 64:\n",
        "      return \"Your Key or IV is not 64-bit!\"\n",
        "  return True"
      ],
      "execution_count": 54,
      "outputs": []
    },
    {
      "cell_type": "code",
      "metadata": {
        "id": "pEKlOC_bSCKn",
        "colab": {
          "base_uri": "https://localhost:8080/"
        },
        "outputId": "d9cd3514-51dc-4b49-e5d0-1d15133a9b60"
      },
      "source": [
        "# Test\n",
        "test_str0 = 'e'  # Valid crypt\n",
        "# Valid text\n",
        "test_str1 = \"1000001110111010011110101111011100111001010001100110010010111001\"\n",
        "# Valid key\n",
        "test_str2 = \"1100101100011010100011101100010101110101000010001110110001010011\"\n",
        "# Valid IV  \n",
        "test_str3 = \"1010110010000101100001100111111001100100010000110011100011110101\"\n",
        "\n",
        "print(check_before_crypt('c', 'm', 'x', ['k', 'k', 'k'], None))\n",
        "print(check_before_crypt(test_str0, 'm', 'x', ['k', 'k', 'k'], None))\n",
        "print(check_before_crypt(test_str0, 'cbc', 'x', ['k', 'k', 'k'], None))\n",
        "print(check_before_crypt(test_str0, 'cbc', 'x', ['k', 'k', 'k'], 'iv'))\n",
        "print(check_before_crypt(test_str0, 'cbc', '10', ['01', '11', '00'], '0'))\n",
        "print(\n",
        "    check_before_crypt(test_str0, \\\n",
        "                       'cbc', test_str1, \\\n",
        "                       [test_str2, test_str2, test_str2], test_str3))\n",
        "print(\n",
        "    check_before_crypt(test_str0, \\\n",
        "                       'ecb', test_str1, \\\n",
        "                       [test_str2, test_str2, test_str2], None))"
      ],
      "execution_count": 21,
      "outputs": [
        {
          "output_type": "stream",
          "name": "stdout",
          "text": [
            "Please specify if you want to 'e'ncrypt or 'd'ecrypt!\n",
            "Only \"ecb\", \"cbc\", \"cfb\", \"ofb\" modes are supported!\n",
            "This mode requires an IV.\n",
            "Text, Key, or IV is not binary.\n",
            "Your Key or IV is not 64-bit!\n",
            "True\n",
            "True\n"
          ]
        }
      ]
    },
    {
      "cell_type": "markdown",
      "metadata": {
        "id": "L_B_J3HWYP9H"
      },
      "source": [
        "## Nâng cao: Áp dụng các cơ chế tách block để mã hoá đoạn tin dài\n",
        "\n",
        "*Chi tiết: [Block cipher mode of operations](https://en.wikipedia.org/wiki/Block_cipher_mode_of_operation)*"
      ]
    },
    {
      "cell_type": "markdown",
      "metadata": {
        "id": "IBntdc5UaVal"
      },
      "source": [
        "### Phương pháp cơ bản nhất"
      ]
    },
    {
      "cell_type": "markdown",
      "metadata": {
        "id": "EuvewC_Zg216"
      },
      "source": [
        "#### Electronic Codebook (ECB)\n",
        "\n",
        "Đoạn tin dài được chia thành các block 64-bit $\\left(x_1, x_2, ..., x_n\\right)$.\n",
        "\n",
        "Sau đó mỗi block được mã hoá và cho ra bản mã tương ứng:\n",
        "\n",
        "$$ y_i = E(x_i) $$\n",
        "\n",
        "Sơ đồ mã hoá:  \n",
        "![ECB_e](https://upload.wikimedia.org/wikipedia/commons/thumb/d/d6/ECB_encryption.svg/640px-ECB_encryption.svg.png)\n",
        "\n",
        "\n",
        "Khi giải mã, ta cũng chỉ cần tách bản mã thành các block 64-bit và giải mã lần lượt:\n",
        "\n",
        "$$ x_i = D(y_i) $$\n",
        "\n",
        "Sơ đồ giải mã:  \n",
        "![ECB_d](https://upload.wikimedia.org/wikipedia/commons/thumb/e/e6/ECB_decryption.svg/640px-ECB_decryption.svg.png)"
      ]
    },
    {
      "cell_type": "markdown",
      "metadata": {
        "id": "eILLHPe7aeyg"
      },
      "source": [
        "### Các phương pháp tốt hơn\n",
        "\n",
        "Với những phương pháp dưới đây, sẽ không xảy ra việc đoạn tin có dấu hiệu lặp lại thì đoạn mã cũng sẽ có tính chất tương tự. Do việc mã hoá có tính chất liên tục, áp dụng kết quả bước nào đó block cũ để dồn vào block mới mã hoá tiếp, thay vì độc lập riêng mỗi block.\n",
        "\n",
        "Chúng bao gồm:  \n",
        "- Cipher block chaining (CBC)\n",
        "- Cipher Feedback (CFB)\n",
        "- Output Feedback (OFB)\n",
        "- Counter (CTR)"
      ]
    },
    {
      "cell_type": "markdown",
      "metadata": {
        "id": "AxdLDVLSgIdY"
      },
      "source": [
        "#### Cipher block chaining (CBC)\n",
        "\n",
        "Đoạn tin dài được chia thành các block 64-bit $\\left(x_1, x_2, ..., x_n\\right)$.\n",
        "\n",
        "Trước khi bắt đầu mã hoá $\\left(x_1\\right)$, một Initialisation Vector (IV) 64-bit $\\left(y_0\\right)$ sẽ được đưa vào để cộng XOR với block tin này:\n",
        "\n",
        "$$ y_1 = E\\left(x_1 \\oplus y_0\\right) $$\n",
        "\n",
        "Áp dụng kiểu xích dây chuyền (chaining), ta có công thức mã hoá:\n",
        "\n",
        "$$ y_i = E\\left(x_i \\oplus y_{y-1}\\right) $$\n",
        "\n",
        "Sơ đồ mã hoá:  \n",
        "![CBC Encrypt](https://upload.wikimedia.org/wikipedia/commons/thumb/8/80/CBC_encryption.svg/640px-CBC_encryption.svg.png)\n",
        "\n",
        "Khi giải mã cũng sẽ phức tạp hơn so với ECB:\n",
        "\n",
        "$$ x_i = y_{i-1} \\oplus D\\left(y_i\\right) $$\n",
        "\n",
        "Sơ đồ giải mã:  \n",
        "![CBC Decrypt](https://upload.wikimedia.org/wikipedia/commons/thumb/2/2a/CBC_decryption.svg/640px-CBC_decryption.svg.png)"
      ]
    },
    {
      "cell_type": "markdown",
      "metadata": {
        "id": "OKXuvD2u1h8n"
      },
      "source": [
        "#### Cipher Feedback (CFB)\n",
        "\n",
        "Cũng sử dụng IV như CBC, nhưng thay vì cộng XOR vào đoạn tin trước khi mã hoá, ta mã hoá IV và cộng XOR với đoạn tin.  \n",
        "Đoạn mã của block x sẽ được sử dụng như IV ở block x+1.  \n",
        "Ngoài ra, ở cả lần mã hoá và giải mã, ta sẽ đều sử dụng thuật toán ***mã hoá*** DES.\n",
        "\n",
        "Dưới đây là minh hoạ về Full-block CFB.\n",
        "\n",
        "**Mã hoá:**\n",
        "\n",
        "$$ y_i = \n",
        "\\begin{cases}\n",
        "\\text{IV} & \\text{if } i = 0 \\\\\n",
        "E\\left(y_{i-1}\\right) \\oplus x_i & \\text{otherwise}\n",
        "\\end{cases} $$\n",
        "\n",
        "Sơ đồ mã hoá:  \n",
        "![CFB_e](https://upload.wikimedia.org/wikipedia/commons/thumb/9/9d/CFB_encryption.svg/640px-CFB_encryption.svg.png)\n",
        "\n",
        "**Giải mã:**\n",
        "\n",
        "$$ x_i = E\\left(y_{i-1}\\right) \\oplus y_i $$\n",
        "\n",
        "Sơ đồ giải mã:  \n",
        "![CFB_d](https://upload.wikimedia.org/wikipedia/commons/thumb/5/57/CFB_decryption.svg/640px-CFB_decryption.svg.png)\n",
        "\n",
        "Ngoài ra, CFB còn có các biến thể CFB-***x***, ví dụ: CFB-1, CFB-4, CFB-8, CFB-16, CFB-32, ...\n",
        "\n",
        "Đó là khi ta cộng XOR ***block tin*** và ***IV bị mã hoá***:\n",
        "- Ta lấy x-bit đầu của kết quả đó (gọi tạm là $\\alpha$).\n",
        "- Ta dịch trái bit IV đi x bước, sau đó thay $\\alpha$ vào x bit cuối của IV.\n",
        "- Lấy kết quả thu được làm nguyên liệu mã hoá cho block kế.\n",
        "\n",
        "Vậy là chỉ có 1 phần kết quả cộng XOR được dùng sử dụng dây chuyền, thay vì toàn bộ Ciphertext của block đó.\n",
        "\n",
        "Trong mục code ở bên dưới thuộc báo cáo này, bọn em chỉ làm Full-block CFB."
      ]
    },
    {
      "cell_type": "markdown",
      "metadata": {
        "id": "AxbTYerx6r0j"
      },
      "source": [
        "#### Output Feedback (OFB)\n",
        "\n",
        "Tương tự CFB, nhưng thay vì lấy kết quả $\\left(\\text{mã hoá IV} \\oplus x_1 \\right) = y_1$ làm nguyên liệu mã hoá ở block 2, ta sẽ sử dụng luôn kết quả $\\text{mã hoá IV}$.  \n",
        "Ngoài ra, giống như CFB, ở cả lần mã hoá và giải mã, ta sẽ đều sử dụng thuật toán ***mã hoá*** DES.\n",
        "\n",
        "$$ y_j = x_j \\oplus O_j, \\\\\n",
        "x_j = y_j \\oplus O_j, \\\\\n",
        "O_j = E\\left(I_j\\right), \\\\\n",
        "I_j = O_{j-1}, \\\\\n",
        "I_0 = \\text{IV}. $$\n",
        "\n",
        "Sơ đồ mã hoá:  \n",
        "![OFB_e](https://upload.wikimedia.org/wikipedia/commons/thumb/b/b0/OFB_encryption.svg/640px-OFB_encryption.svg.png)\n",
        "\n",
        "Sơ đồ giải mã:  \n",
        "![OFB_d](https://upload.wikimedia.org/wikipedia/commons/thumb/f/f5/OFB_decryption.svg/640px-OFB_decryption.svg.png)"
      ]
    },
    {
      "cell_type": "markdown",
      "metadata": {
        "id": "ScLfnpifGQH6"
      },
      "source": [
        "#### Counter\n",
        "\n",
        "Ta chia thành các block riêng biệt không móc nối giống ECB.  \n",
        "Thay vì dùng IV, ta sử dụng 1 **nonce**, và cho nó tịnh tiến (+1, +2, ...), hoặc dịch bit, hoặc bất cứ hình thức biến đổi \"đều\" với mỗi block. Bởi vì nó có tính chất biến đổi tăng/giảm dần nên ta gọi nó là bộ đếm (counter).  \n",
        "Ta mã hoá các nonce ở mỗi block, sau đó cộng XOR với đoạn tin ở block tương ứng, ra được đoạn mã thuộc block đó.\n",
        "\n",
        "**Minh hoạ:**\n",
        "\n",
        "Mã hoá:  \n",
        "![CTR_e](https://upload.wikimedia.org/wikipedia/commons/thumb/4/4d/CTR_encryption_2.svg/640px-CTR_encryption_2.svg.png)\n",
        "\n",
        "Giải mã:  \n",
        "![CTR_d](https://upload.wikimedia.org/wikipedia/commons/thumb/3/3c/CTR_decryption_2.svg/640px-CTR_decryption_2.svg.png)\n",
        "\n",
        "Trong mục code ở bên dưới thuộc báo cáo này, bọn em sẽ dịch trái 1-bit nonce ở mỗi block."
      ]
    },
    {
      "cell_type": "markdown",
      "metadata": {
        "id": "ZBBqoyJtqJo7"
      },
      "source": [
        "## Áp dụng thực tiễn\n",
        "\n",
        "Việc con người làm việc trực tiếp với mã nhị phân gần như không bao giờ xảy ra, đoạn văn bản hay khoá được đưa vào hầu như sẽ đều ở dạng *có thể đọc và hiểu được*. Quy chuẩn hiện nay để mã hoá các đoạn văn bản đó hay được sử dụng là UTF-8.\n",
        "\n",
        "Để mã hoá với DES, ta cần chuyển được tin (hoặc mã) và khoá về nhị phân, mã hoá (hoặc giải mã) nó, xong chuyển về dạng bảng mã người dùng muốn.\n",
        "\n",
        "Bọn em đã hỗ trợ được luồng đầu vào ở 2 bảng mã:\n",
        "- UTF-8,\n",
        "- Hexadecimal."
      ]
    },
    {
      "cell_type": "markdown",
      "metadata": {
        "id": "D8Y2sLLTQJrL"
      },
      "source": [
        "### Hàm chuyển bảng mã\n",
        "\n",
        "**Hỗ trợ chuyển qua lại:**\n",
        "\n",
        "- UTF-8\n",
        "- Hệ thập lục phân (Hexadecimal, Hex)\n",
        "- Hệ nhị phân (Binary, Bin)"
      ]
    },
    {
      "cell_type": "code",
      "metadata": {
        "id": "qX-EctODh35V"
      },
      "source": [
        "import math\n",
        "\n",
        "HEX_CHAR = ['0', '1', '2', '3', '4', '5', '6', '7',\n",
        "            '8', '9', 'a', 'b', 'c', 'd', 'e', 'f']\n",
        "SUPPORTED_ENC = [\"bin\", \"hex\", \"utf8\"]\n",
        "\n",
        "def convert_text(text, i_enc, o_enc):\n",
        "  i_enc = i_enc.lower()\n",
        "  o_enc = o_enc.lower()\n",
        "  if (i_enc not in SUPPORTED_ENC) or (o_enc not in SUPPORTED_ENC):\n",
        "    return \"Only \\\"bin\\\", \\\"hex\\\" and \\\"utf8\\\" are supported!\"\n",
        "  if i_enc == o_enc:\n",
        "    return \"Input and output encoders should not be the same!\"\n",
        "  if i_enc == \"bin\":\n",
        "    for c in text:\n",
        "      if c not in BIN_CHAR:\n",
        "        return \"Input is not binary!\"\n",
        "    if o_enc == \"hex\":\n",
        "      return b2h(text)\n",
        "    return b2t(text)\n",
        "  if i_enc == \"hex\":\n",
        "    for c in text:\n",
        "      if c not in HEX_CHAR:\n",
        "        return \"Input is not hexadecimal!\"\n",
        "    if o_enc == \"bin\":\n",
        "      return h2b(text)\n",
        "    return h2t(text)\n",
        "  if o_enc == \"bin\":\n",
        "    return t2b(text)\n",
        "  return t2h(text)\n",
        "\n",
        "def h2b(s):\n",
        "  return ''.join([\"{0:04b}\".format(int(char,16)) for char in s])\n",
        "\n",
        "def b2h(s):\n",
        "  output = \"\"\n",
        "  # Handle 0s at the beginning\n",
        "  for i in range(len(s) // 4 - 1):\n",
        "    if s[4*i:4*i+4] != \"0000\": break\n",
        "    else: output += '0'\n",
        "  output += hex(int(s, 2))[2:]\n",
        "  return output\n",
        "\n",
        "def t2b(s):\n",
        "  return ''.join(bin(char)[2:].zfill(8) for char in s.encode('utf-8'))\n",
        "\n",
        "def b2t(s):\n",
        "  return int(s, 2).to_bytes(math.ceil(len(s) / 8), 'big').decode('utf-8')\n",
        "\n",
        "def t2h(s):\n",
        "  return b2h(t2b(s))\n",
        "\n",
        "def h2t(s):\n",
        "  return b2t(h2b(s))"
      ],
      "execution_count": 24,
      "outputs": []
    },
    {
      "cell_type": "code",
      "metadata": {
        "colab": {
          "base_uri": "https://localhost:8080/"
        },
        "id": "bnPo8Vw_GnBt",
        "outputId": "1d1bfbcf-5685-49c9-8a36-dab0e6b93a57"
      },
      "source": [
        "# Test error cases\n",
        "print(convert_text('t','t','t'))\n",
        "print(convert_text('t','utf8','utf8'))\n",
        "print(convert_text('t','bin','utf8'))\n",
        "print(convert_text('t','hex','utf8'))"
      ],
      "execution_count": 51,
      "outputs": [
        {
          "output_type": "stream",
          "name": "stdout",
          "text": [
            "Only \"bin\", \"hex\" and \"utf8\" are supported!\n",
            "Input and output encoders should not be the same!\n",
            "Input is not binary!\n",
            "Input is not hexadecimal!\n"
          ]
        }
      ]
    },
    {
      "cell_type": "code",
      "metadata": {
        "id": "lx-Vz6jBi-SL",
        "colab": {
          "base_uri": "https://localhost:8080/"
        },
        "outputId": "126c75cb-1873-414e-eceb-048a9bac5ddc"
      },
      "source": [
        "# Test\n",
        "test_str0 = \"情報保護\"\n",
        "hex_str0 = convert_text(test_str0, \"utf8\", \"hex\")  # to hex\n",
        "bin_str0 = convert_text(test_str0, \"utf8\", \"bin\")  # to bin\n",
        "\n",
        "test_str1 = convert_text(hex_str0, \"hex\", \"utf8\")  # to utf8\n",
        "test_str2 = convert_text(bin_str0, \"bin\", \"utf8\")  # to utf8\n",
        "\n",
        "hex_str1 = convert_text(bin_str0, \"bin\", \"hex\")  # to hex\n",
        "bin_str1 = convert_text(hex_str0, \"hex\", \"bin\")  # to bin\n",
        "\n",
        "print(\"Text: \" + test_str0, \"Hex: \" + hex_str0, \\\n",
        "      \"Bin:\\n\" + bin_str0, sep='\\n')\n",
        "print(\"Is all text strings same:\", \\\n",
        "      test_str0 == test_str1 and test_str0 == test_str2)\n",
        "print(\"Is 2 hex strings same:\", hex_str0 == hex_str1)\n",
        "print(\"Is 2 bin strings same:\", bin_str0 == bin_str1)"
      ],
      "execution_count": 25,
      "outputs": [
        {
          "output_type": "stream",
          "name": "stdout",
          "text": [
            "Text: 情報保護\n",
            "Hex: e68385e5a0b1e4bf9de8adb7\n",
            "Bin:\n",
            "111001101000001110000101111001011010000010110001111001001011111110011101111010001010110110110111\n",
            "Is all text strings same: True\n",
            "Is 2 hex strings same: True\n",
            "Is 2 bin strings same: True\n"
          ]
        }
      ]
    },
    {
      "cell_type": "markdown",
      "metadata": {
        "id": "ASZ91gRuq_9N"
      },
      "source": [
        "## Code"
      ]
    },
    {
      "cell_type": "code",
      "metadata": {
        "id": "CUdCh7nghCCr"
      },
      "source": [
        "def long_text_des(x, mode, k, iv, crypt):\n",
        "  chk = check_before_crypt(crypt, mode, x, [k], iv)\n",
        "  if chk != True:\n",
        "    return chk\n",
        "  # Add 0-trail and split to multiple 64-bit blocks\n",
        "  text_blocks = split_block(add_trailing_zero(x))\n",
        "  vec = iv\n",
        "  output = \"\"\n",
        "  # Enc/Dec with DES\n",
        "  if mode == \"ecb\":\n",
        "    for i in range(len(text_blocks)):\n",
        "      output += des_core(text_blocks[i], k, crypt)\n",
        "  elif mode == \"cbc\":\n",
        "    if crypt == 'e':\n",
        "      for i in range(len(text_blocks)):\n",
        "        vec = des_core(calc_xor(vec, text_blocks[i]), k, crypt)\n",
        "        output += vec\n",
        "    else:\n",
        "      for i in range(len(text_blocks)):\n",
        "        output += calc_xor(vec, des_core(text_blocks[i], k, crypt))\n",
        "        vec = text_blocks[i]\n",
        "  elif mode == \"cfb\":\n",
        "    if crypt == 'e':\n",
        "      for i in range(len(text_blocks)):\n",
        "        vec = calc_xor(text_blocks[i], des_core(vec, k, crypt))\n",
        "        output += vec\n",
        "    else:\n",
        "      for i in range(len(text_blocks)):\n",
        "        output += calc_xor(des_core(vec, k, 'e'), text_blocks[i])\n",
        "        vec = text_blocks[i]\n",
        "  elif mode == \"ofb\":\n",
        "    for i in range(len(text_blocks)):\n",
        "      vec = des_core(vec, k, 'e')\n",
        "      output += calc_xor(text_blocks[i], vec)\n",
        "  else:\n",
        "    for i in range(len(text_blocks)):\n",
        "      output += calc_xor(des_core(vec, k, 'e'), text_blocks[i])\n",
        "      vec = left_shift(vec, 1)\n",
        "\n",
        "  return output\n",
        "\n",
        "def long_text_tdes(x, mode, k1, k2, k3, iv, crypt):\n",
        "  chk = check_before_crypt(crypt, mode, x, [k1, k2, k3], iv)\n",
        "  if chk != True:\n",
        "    return chk\n",
        "  # Add 0-trail and split to multiple 64-bit blocks\n",
        "  text_blocks = split_block(add_trailing_zero(x))\n",
        "  vec = iv\n",
        "  output = \"\"\n",
        "  # Enc/Dec with TDES\n",
        "  if mode == \"ecb\":\n",
        "    for i in range(len(text_blocks)):\n",
        "      output += tdes_core(text_blocks[i], k1, k2, k3, crypt)\n",
        "  elif mode == \"cbc\":\n",
        "    if crypt == 'e':\n",
        "      for i in range(len(text_blocks)):\n",
        "        vec = tdes_core(calc_xor(vec, text_blocks[i]), k1, k2, k3, crypt)\n",
        "        output += vec\n",
        "    else:\n",
        "      for i in range(len(text_blocks)):\n",
        "        output += calc_xor(vec, tdes_core(text_blocks[i], k1, k2, k3, crypt))\n",
        "        vec = text_blocks[i]\n",
        "  elif mode == \"cfb\":\n",
        "    if crypt == 'e':\n",
        "      for i in range(len(text_blocks)):\n",
        "        vec = calc_xor(text_blocks[i], tdes_core(vec, k1, k2, k3, crypt))\n",
        "        output += vec\n",
        "    else:\n",
        "      for i in range(len(text_blocks)):\n",
        "        output += calc_xor(tdes_core(vec, k1, k2, k3, 'e'), text_blocks[i])\n",
        "        vec = text_blocks[i]\n",
        "  elif mode == \"ofb\":\n",
        "    for i in range(len(text_blocks)):\n",
        "      vec = tdes_core(vec, k1, k2, k3, 'e')\n",
        "      output += calc_xor(text_blocks[i], vec)\n",
        "  else:\n",
        "    for i in range(len(text_blocks)):\n",
        "      output += calc_xor(tdes_core(vec, k1, k2, k3, 'e'), text_blocks[i])\n",
        "      vec = left_shift(vec, 1)\n",
        "  return output"
      ],
      "execution_count": 80,
      "outputs": []
    },
    {
      "cell_type": "markdown",
      "metadata": {
        "id": "d8nukeJkLQyt"
      },
      "source": [
        "# Demo"
      ]
    },
    {
      "cell_type": "markdown",
      "metadata": {
        "id": "TNYvVCaILUpa"
      },
      "source": [
        "## DES"
      ]
    },
    {
      "cell_type": "code",
      "metadata": {
        "colab": {
          "base_uri": "https://localhost:8080/"
        },
        "id": "62-PaYZQrpDd",
        "outputId": "9c85f889-dc68-493d-dedc-4da67cbcb352"
      },
      "source": [
        "# Test 1\n",
        "x = \"8cffc8b2ef4ee5023dddd4a3\"\n",
        "x_b = convert_text(x, \"hex\", \"bin\")\n",
        "k = convert_text(\"3ee6be37cc6646e7\", \"hex\", \"bin\")\n",
        "iv = convert_text(\"e4520a2119f51114\", \"hex\", \"bin\")  # work as nonce in CTR\n",
        "print(\"  Plaintext:  \" + x)\n",
        "for mode in SUPPORTED_MODE:\n",
        "  print(mode + \" mode:\")\n",
        "  y_b = long_text_des(x_b, mode, k, iv, 'e')  # ECB mode ignores IV\n",
        "  y = convert_text(y_b, \"bin\", \"hex\")\n",
        "  d_y_b = long_text_des(y_b, mode, k, iv, 'd')\n",
        "  d_y = convert_text(d_y_b, \"bin\", \"hex\")\n",
        "  print(\"  Ciphertext: \" + y, \\\n",
        "        \"  Decrypt C:  \" + d_y, sep='\\n')"
      ],
      "execution_count": 83,
      "outputs": [
        {
          "output_type": "stream",
          "name": "stdout",
          "text": [
            "  Plaintext:  8cffc8b2ef4ee5023dddd4a3\n",
            "ecb mode:\n",
            "  Ciphertext: 50f93cf1ba4ff080d53c1d9dbb8a2a6f\n",
            "  Decrypt C:  8cffc8b2ef4ee5023dddd4a300000000\n",
            "cbc mode:\n",
            "  Ciphertext: 770fb2037c88cb3722ee4f35f3ff3253\n",
            "  Decrypt C:  8cffc8b2ef4ee5023dddd4a300000000\n",
            "cfb mode:\n",
            "  Ciphertext: 284c87fe31626a88a4f6c97c132cef3c\n",
            "  Decrypt C:  8cffc8b2ef4ee5023dddd4a300000000\n",
            "ofb mode:\n",
            "  Ciphertext: 284c87fe31626a889fe77d92d1a83761\n",
            "  Decrypt C:  8cffc8b2ef4ee5023dddd4a300000000\n",
            "ctr mode:\n",
            "  Ciphertext: 284c87fe31626a8839f68b072ac62203\n",
            "  Decrypt C:  8cffc8b2ef4ee5023dddd4a300000000\n"
          ]
        }
      ]
    },
    {
      "cell_type": "code",
      "metadata": {
        "colab": {
          "base_uri": "https://localhost:8080/"
        },
        "id": "c42yLphDMajP",
        "outputId": "86fd9670-0c09-4644-fb02-cf1f11f81966"
      },
      "source": [
        "# Test 2\n",
        "x = \"Chúng em chào thầy ạ!\"\n",
        "x_b = convert_text(x, \"utf8\", \"bin\")\n",
        "k = convert_text(\"AnToanTT\", \"utf8\", \"bin\")\n",
        "iv = convert_text(\"INT32131\", \"utf8\", \"bin\")  # work as nonce in CTR\n",
        "print(\"  Plaintext:  \" + x)\n",
        "for mode in SUPPORTED_MODE:\n",
        "  print(mode + \" mode:\")\n",
        "  y_b = long_text_des(x_b, mode, k, iv, 'e')  # ECB mode ignores IV\n",
        "  y = convert_text(y_b, \"bin\", \"hex\")\n",
        "  d_y_b = long_text_des(y_b, mode, k, iv, 'd')\n",
        "  d_y = convert_text(d_y_b, \"bin\", \"utf8\")\n",
        "  print(\"  Ciphertext: \" + y, \\\n",
        "        \"  Decrypt C:  \" + d_y, sep='\\n')"
      ],
      "execution_count": 82,
      "outputs": [
        {
          "output_type": "stream",
          "name": "stdout",
          "text": [
            "  Plaintext:  Chúng em chào thầy ạ!\n",
            "ecb mode:\n",
            "  Ciphertext: 3064c8557ef87d43cffedcb04de3f6ebed4bab04a7adf65afc4d15bdb7552147\n",
            "  Decrypt C:  Chúng em chào thầy ạ!\u0000\u0000\u0000\u0000\u0000\n",
            "cbc mode:\n",
            "  Ciphertext: 6668cb029fa4c73b3af4b5700c5eb938c558852b9a255fa76b045af0464f3218\n",
            "  Decrypt C:  Chúng em chào thầy ạ!\u0000\u0000\u0000\u0000\u0000\n",
            "cfb mode:\n",
            "  Ciphertext: b75662c627c446cd9efb8c201b727beae0d4288210cb1d7b27aa316a9ed73c22\n",
            "  Decrypt C:  Chúng em chào thầy ạ!\u0000\u0000\u0000\u0000\u0000\n",
            "ofb mode:\n",
            "  Ciphertext: b75662c627c446cd8596b726697826b5690290abc565387feeba33da1a674f3f\n",
            "  Decrypt C:  Chúng em chào thầy ạ!\u0000\u0000\u0000\u0000\u0000\n",
            "ctr mode:\n",
            "  Ciphertext: b75662c627c446cd2a424b07b71a832423e817b614fdfaacff8224c6b76001d3\n",
            "  Decrypt C:  Chúng em chào thầy ạ!\u0000\u0000\u0000\u0000\u0000\n"
          ]
        }
      ]
    },
    {
      "cell_type": "markdown",
      "metadata": {
        "id": "VasOlDxnQpaJ"
      },
      "source": [
        "## 3DES"
      ]
    },
    {
      "cell_type": "code",
      "metadata": {
        "colab": {
          "base_uri": "https://localhost:8080/"
        },
        "id": "aBIKbRigQrFg",
        "outputId": "0f9b607c-fbab-4e0e-a775-3d0c24dacb43"
      },
      "source": [
        "# Test 1\n",
        "x = \"0caa08cea44b26a09ca2a26858ee38c2\"\n",
        "x_b = convert_text(x, \"hex\", \"bin\")\n",
        "k1 = convert_text(\"5ceea80e4b0b3130\", \"hex\", \"bin\")\n",
        "k2 = convert_text(\"c59d20ace68163f3\", \"hex\", \"bin\")\n",
        "k3 = convert_text(\"b0b31c48f089bf23\", \"hex\", \"bin\")\n",
        "iv = convert_text(\"2276e866286e86e7\", \"hex\", \"bin\")  # work as nonce in CTR\n",
        "print(\"  Plaintext:  \" + x)\n",
        "for mode in SUPPORTED_MODE:\n",
        "  print(mode + \" mode:\")\n",
        "  y_b = long_text_tdes(x_b, mode, k1, k2, k3, iv, 'e')  # ECB mode ignores IV\n",
        "  y = convert_text(y_b, \"bin\", \"hex\")\n",
        "  d_y_b = long_text_tdes(y_b, mode, k1, k2, k3, iv, 'd')\n",
        "  d_y = convert_text(d_y_b, \"bin\", \"hex\")\n",
        "  print(\"  Ciphertext: \" + y, \\\n",
        "        \"  Decrypt C:  \" + d_y, sep='\\n')"
      ],
      "execution_count": 84,
      "outputs": [
        {
          "output_type": "stream",
          "name": "stdout",
          "text": [
            "  Plaintext:  0caa08cea44b26a09ca2a26858ee38c2\n",
            "ecb mode:\n",
            "  Ciphertext: b4eb772750b50e0b812c32676946e9a3\n",
            "  Decrypt C:  0caa08cea44b26a09ca2a26858ee38c2\n",
            "cbc mode:\n",
            "  Ciphertext: 01002d7e357ff0f5809de772ad31d2b4\n",
            "  Decrypt C:  0caa08cea44b26a09ca2a26858ee38c2\n",
            "cfb mode:\n",
            "  Ciphertext: bc98548e17bd14d130fcf2c85381afcf\n",
            "  Decrypt C:  0caa08cea44b26a09ca2a26858ee38c2\n",
            "ofb mode:\n",
            "  Ciphertext: bc98548e17bd14d1cf00c18aba23c7e7\n",
            "  Decrypt C:  0caa08cea44b26a09ca2a26858ee38c2\n",
            "ctr mode:\n",
            "  Ciphertext: bc98548e17bd14d1d1cf0a20dcb74806\n",
            "  Decrypt C:  0caa08cea44b26a09ca2a26858ee38c2\n"
          ]
        }
      ]
    },
    {
      "cell_type": "code",
      "metadata": {
        "colab": {
          "base_uri": "https://localhost:8080/"
        },
        "id": "FIXi-3M6SBGh",
        "outputId": "eec978ab-252a-4ad0-e1aa-f44264920a42"
      },
      "source": [
        "# Test 1\n",
        "x = \"Cảm ơn thầy đã xem báo cáo của nhóm bọn em.\"\n",
        "x_b = convert_text(x, \"utf8\", \"bin\")\n",
        "k1 = convert_text(\"10DiemBC\", \"utf8\", \"bin\")\n",
        "k2 = convert_text(\"BaoCao10\", \"utf8\", \"bin\")\n",
        "k3 = convert_text(\"_CucVjp_\", \"utf8\", \"bin\")\n",
        "iv = convert_text(\"_Nhom_2_\", \"utf8\", \"bin\")  # work as nonce in CTR\n",
        "print(\"  Plaintext:  \" + x)\n",
        "for mode in SUPPORTED_MODE:\n",
        "  print(mode + \" mode:\")\n",
        "  y_b = long_text_tdes(x_b, mode, k1, k2, k3, iv, 'e')  # ECB mode ignores IV\n",
        "  y = convert_text(y_b, \"bin\", \"hex\")\n",
        "  d_y_b = long_text_tdes(y_b, mode, k1, k2, k3, iv, 'd')\n",
        "  d_y = convert_text(d_y_b, \"bin\", \"utf8\")\n",
        "  print(\"  Ciphertext: \" + y, \\\n",
        "        \"  Decrypt C:  \" + d_y, sep='\\n')"
      ],
      "execution_count": 88,
      "outputs": [
        {
          "output_type": "stream",
          "name": "stdout",
          "text": [
            "  Plaintext:  Cảm ơn thầy đã xem báo cáo của nhóm bọn em.\n",
            "ecb mode:\n",
            "  Ciphertext: d78f041530fa90deb168195700e2249084058685b94c6798db328fabc77e88359f08fbf182dcbf9280906a016fc7923f81578f29f7fa6bf67ea158d7c86e9faf\n",
            "  Decrypt C:  Cảm ơn thầy đã xem báo cáo của nhóm bọn em.\u0000\u0000\u0000\u0000\u0000\u0000\u0000\n",
            "cbc mode:\n",
            "  Ciphertext: d49f35c4ca3f7f1120a79ae49cf699bc2276c9500edb2f737f724079b9cc961e80c7dc71c1ed9f212d9f60cc3ad461a56f58619b0f3e92f761f33f6855904d44\n",
            "  Decrypt C:  Cảm ơn thầy đã xem báo cáo của nhóm bọn em.\u0000\u0000\u0000\u0000\u0000\u0000\u0000\n",
            "cfb mode:\n",
            "  Ciphertext: 5d6ac8bb977f1305c7144bd38213db43e25c17937120fa959df273969d7ae0d6f2e9f33981b89e3ce8a67d5ef85c8530a4ad557037035619cc4a329f20978f4e\n",
            "  Decrypt C:  Cảm ơn thầy đã xem báo cáo của nhóm bọn em.\u0000\u0000\u0000\u0000\u0000\u0000\u0000\n",
            "ofb mode:\n",
            "  Ciphertext: 5d6ac8bb977f13054a9b74e6d2fb4679323bb87c46731fb662bd79201f03f64e8c1ad0d73daf8859079702bfc5b2ef546bde92dd9a49d40edd486eeef9300eb9\n",
            "  Decrypt C:  Cảm ơn thầy đã xem báo cáo của nhóm bọn em.\u0000\u0000\u0000\u0000\u0000\u0000\u0000\n",
            "ctr mode:\n",
            "  Ciphertext: 5d6ac8bb977f13055aba6bcc4680533cb96f0f482935787e7e9b349d26f2ff1db9e8ea811067b1628542011deda8c2e9bcecf2e2184d52ec76558488cdcd2b29\n",
            "  Decrypt C:  Cảm ơn thầy đã xem báo cáo của nhóm bọn em.\u0000\u0000\u0000\u0000\u0000\u0000\u0000\n"
          ]
        }
      ]
    },
    {
      "cell_type": "markdown",
      "metadata": {
        "id": "bH3R_zxXTBkz"
      },
      "source": [
        "Do tính chất đệm thêm bit vào khi không đủ block 64-bit, đoạn mã xuất ra cũng sẽ bao gồm \"đoạn bit 0 ở cuối\" được mã hoá, vì vậy, vị trí bit không hợp lệ để có thể giải ra UTF-8.  \n",
        "Đó là lý do ở demo, bọn em quyết định xuất Ciphertext ở dạng Hexadecimal."
      ]
    }
  ]
}